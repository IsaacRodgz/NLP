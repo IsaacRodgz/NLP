{
 "cells": [
  {
   "cell_type": "code",
   "execution_count": 75,
   "metadata": {},
   "outputs": [],
   "source": [
    "import os\n",
    "import re\n",
    "from keras.preprocessing.text import Tokenizer\n",
    "import csv\n",
    "\n",
    "def get_texts_from_file(path_corpus, path_truth):\n",
    "    tr_txt = []\n",
    "    tr_y = []\n",
    "    with open(path_corpus, \"r\") as f_corpus, open(path_truth, \"r\") as f_truth:\n",
    "        for twitt in f_corpus:\n",
    "            tr_txt += [twitt.strip()]\n",
    "        for label in f_truth:\n",
    "            tr_y += [label.strip()]        \n",
    "    return tr_txt, tr_y"
   ]
  },
  {
   "cell_type": "code",
   "execution_count": 76,
   "metadata": {},
   "outputs": [],
   "source": [
    "tr_txt, tr_y = get_texts_from_file(\"./agre/mex20_train.txt\", \"./agre/mex20_train_labels.txt\")\n",
    "val_txt, val_y = get_texts_from_file(\"./agre/mex20_val.txt\", \"./agre/mex20_val_labels.txt\")"
   ]
  },
  {
   "cell_type": "code",
   "execution_count": 77,
   "metadata": {},
   "outputs": [
    {
     "data": {
      "text/plain": [
       "5278"
      ]
     },
     "execution_count": 77,
     "metadata": {},
     "output_type": "execute_result"
    }
   ],
   "source": [
    "len(tr_y)"
   ]
  },
  {
   "cell_type": "code",
   "execution_count": 78,
   "metadata": {},
   "outputs": [],
   "source": [
    "tr_y = list(map(int, tr_y))\n",
    "val_y = list(map(int, val_y))"
   ]
  },
  {
   "cell_type": "code",
   "execution_count": 79,
   "metadata": {},
   "outputs": [
    {
     "name": "stdout",
     "output_type": "stream",
     "text": [
      "Counter({0: 3759, 1: 1519})\n"
     ]
    },
    {
     "data": {
      "image/png": "[encoded data removed]",
      "text/plain": [
       "<Figure size 432x288 with 1 Axes>"
      ]
     },
     "metadata": {
      "needs_background": "light"
     },
     "output_type": "display_data"
    }
   ],
   "source": [
    "from collections import Counter\n",
    "import matplotlib.pyplot as plt\n",
    "%matplotlib inline\n",
    "\n",
    "print(Counter(tr_y))\n",
    "plt.hist(tr_y, bins=len(set(tr_y)))\n",
    "plt.ylabel('Users');\n",
    "plt.xlabel('Class');"
   ]
  },
  {
   "cell_type": "code",
   "execution_count": 80,
   "metadata": {},
   "outputs": [
    {
     "data": {
      "text/plain": [
       "['@USUARIO @USUARIO @USUARIO Q se puede esperar del maricon de closet de la Yañez aun recuerdo esa ves q lo vi en zona rosa viendo quien lo levantada',\n",
       " '@USUARIO La piel nueva siempre arde un poquito los primeros días... y más con este puto clima',\n",
       " 'Ustedes no se enamoran de mí… por tontas.',\n",
       " 'Me las va a pagar esa puta gorda roba tuits...',\n",
       " '@USUARIO LA GENTE ES TONTA PORQUE NO SE DAN CUENTA QUE TÚ HACES A BATMAN AZUL',\n",
       " 'Estoy muy encabronada con las pseudo feministas por tontas e iletradas, a veces me avergüenza ser mujer; preferiría tener un falo. #NiUnaMas',\n",
       " 'Anden putos, recuerdan el #noerapenal #Holanda fuera de #Rusia2018, esto se llama #karma ehhhhhhhh #puuuuuutos',\n",
       " 'Si no tienen chichis no traten de enseñar se ven muy mal y más cuando son prietas.',\n",
       " 'Ojalá asi me agarrars cuando te digo que me voy en lugar de correrme a la verga cada 5 minutos.',\n",
       " '@USUARIO @USUARIO @USUARIO @USUARIO Es solo un HDP aprovechado y que su \"Diosito Bimbo\" me perdone',\n",
       " 'La próxima vez que diga que me está gustando alguien, pártanme la madre.',\n",
       " 'No estoy gorda, lo que pasa es que me sobra sensualidad y ya no me cabe en el cuerpo.',\n",
       " 'Desfachatada, libre, apurada, atrevida, loca y con una chispa de fiereza en la mirada. Me enamoré en 10 minutos. Les he fallado amigos.',\n",
       " '@USUARIO @USUARIO #SiLUP sacó a guardado y valió madre',\n",
       " 'Que nunca se pierda la bonita costumbre de ser nalga pronta. -La más putona de las putas.',\n",
       " 'Como cuando das un buen consejo pero tu amigo está decidido a darse en la madre, una vez más. Es admirable.',\n",
       " 'O sea qué pedo? Creo que me enfieste muy temprano apenas son las 9 y ya ando medio mal, putas lleguen ya',\n",
       " 'Como mandas a la verga algo de lo que dependes tanto?',\n",
       " 'Con mis acciones demuestro que aun soy muy inmaduro, pero pues.. me vale verga',\n",
       " 'Si las rolas de Mon laferte son feas, ahora en versión de banda son mucho peor',\n",
       " 'son unos putos abusivos de mierda. Iusacell NUNCA había hecho estas porquerías.',\n",
       " '#DeberíaSerIlegalQue no tengas esta lengua en tu verga, rigth now!!  Que no??',\n",
       " 'Chingas a tu puta y perra madre Melitón pinche portero chiquitito, malísimo.',\n",
       " 'prestamela para montarla tambien mientras te mama la verga',\n",
       " 'Putas canciones que se convierten en la máquina del tiempo.',\n",
       " 'Mamá luchona, atención a la bendición',\n",
       " '@USUARIO @USUARIO el título de cruz azul? jajajajaja que cagado eres...',\n",
       " 'Con la inocencia de un niño y bajo la mano un puñal...',\n",
       " '#Emmys #EmmysEnTNT  @USUARIO  #StrangerThings   No porque gano esa gorda ni tiene chiste , que les pasa tienen muy mal gusto terrible...',\n",
       " 'La que es payasa, cae gorda',\n",
       " 'Que es un burro hijo de un camión lleno de putas. Ojo, solo contando el partido de hoy.',\n",
       " '@USUARIO Gente mierda son unos racistas putos anglosajones nalgas prietas!!!',\n",
       " 'Vieron cuando tapan una foto con un sticker gorda ya nos dimos cuenta que la tanga se te volo y se engancho en el ropero',\n",
       " 'Verga, dormí en la tarde para valer verga en la madrugada.',\n",
       " 'AHUEVO PUTOS COLDPLAY CERRARÁ EL CONCIERTO  #estamosunidosmexicanos',\n",
       " 'De nada putos, nosotros si vamos al mundial @USUARIO',\n",
       " 'si estas peda y empiezas a enviarle mensaje a tu ex, bueno, ya valiste verga charlie',\n",
       " '@USUARIO @USUARIO ¿Sigue ardida por qué nunca la metieron al grupo de la Clika?:v',\n",
       " 'Jajajajaja gorda la que traigo entrelazada en mis piernas. Está riquísima',\n",
       " 'La liguilla es otro puto torneo alv paren de mamar, así entremos de 8 tengan por seguro que EL AMÉRICA se va a romper la madre!',\n",
       " '@USUARIO Que CASUALIDAD que Raul Cervantes tenga un FERRARY ?O? Sera que es un HIJO de toda su PUTA MADRE PRIISTA corrupto igual ENRRIQUE PEÑA NIETO',\n",
       " 'Sigo necesitando pocos carácteres para mandarte a la verga, mi amor.',\n",
       " 'Estúpidas, golfas, pirujas, ¡no tienen derechos!”, Zurita en MVS vs madres de familia | Homozapping\"',\n",
       " '@USUARIO @USUARIO @USUARIO Es #Ciencia #Gameto es Nuevo #ADN nueva persona diferente a madre #Aborto asesinato d #Veracruzano',\n",
       " 'Verga? Vagina? Van Halen? Vendetta? Viene viene? Voldemort? Vickencio? Vampiro Canadiense?',\n",
       " 'Joto yo lo digo para que tenga con que comprar sus próximos materiales para los siguientes semestres, la tkm!',\n",
       " 'Soy mamá soltera luchona &amp; patriota! Jajaja ♥️🇲🇽🎉😍☺️ #LosAmoInfinito',\n",
       " 'La ventanita del amor se me cerró 🎵 Cada que escucho esa madre me dan ganas de pachanga.',\n",
       " '\"VETE MUCHÍSIMO A LA VERGA, HIJO DE TU PERRA BOMBA MADRE\"',\n",
       " 'Wey, en TODOS LADOS está de la verga...pero sí, pinche #EstabloDeMéxico 😪😪😪']"
      ]
     },
     "execution_count": 80,
     "metadata": {},
     "output_type": "execute_result"
    }
   ],
   "source": [
    "tr_txt[:50]"
   ]
  },
  {
   "cell_type": "code",
   "execution_count": 81,
   "metadata": {},
   "outputs": [
    {
     "name": "stdout",
     "output_type": "stream",
     "text": [
      "Ojalá asi me agarrars cuando te digo que me voy en lugar de correrme a la verga cada 5 minutos.\n",
      "['Ojalá', 'asi', 'me', 'agarrars', 'cuando', 'te', 'digo', 'que', 'me', 'voy', 'en', 'lugar', 'de', 'correrme', 'a', 'la', 'verga', 'cada', '5', 'minutos', '.']\n"
     ]
    }
   ],
   "source": [
    "from nltk import RegexpTokenizer\n",
    "from nltk import TweetTokenizer\n",
    "import re\n",
    "\n",
    "def tok(doc):\n",
    "    #tokenizer = RegexpTokenizer('(?u)\\b\\w\\w+\\b')\n",
    "    #c = re.compile(r'(?u)\\b\\w\\w+\\b')\n",
    "    #return c.findall(doc)\n",
    "    tokenizer = TweetTokenizer()\n",
    "    return tokenizer.tokenize(doc)\n",
    "    \n",
    "print(tr_txt[8])\n",
    "print(tok(tr_txt[8]))"
   ]
  },
  {
   "cell_type": "code",
   "execution_count": null,
   "metadata": {},
   "outputs": [],
   "source": []
  },
  {
   "cell_type": "code",
   "execution_count": 82,
   "metadata": {},
   "outputs": [],
   "source": [
    "from sklearn.feature_extraction.text import TfidfVectorizer, CountVectorizer\n",
    "from sklearn.feature_selection import SelectKBest, chi2\n",
    "import scipy.sparse as sp\n",
    "from time import time\n",
    "import numpy as np\n",
    "\n",
    "def normalize(f):\n",
    "    #f = [x.lower() for x in f]\n",
    "    #f = [x.replace(\"\\\\n\",\" \") for x in f]        \n",
    "    #f = [x.replace(\"\\\\t\",\" \") for x in f]        \n",
    "    #f = [x.replace(\"\\\\xa0\",\" \") for x in f]\n",
    "    #f = [x.replace(\"\\\\xc2\",\" \") for x in f]\n",
    "    \n",
    "    #f = [re.subn(\" [*$%&#@][*$%&#@]+\",\" xexp \", x)[0].strip() for x in f]\n",
    "    #f = [re.subn(\" [0-9]+ \",\" DD \", x)[0].strip() for x in f]\n",
    "    #f = [re.subn(\"<\\S*>\",\"\", x)[0].strip() for x in f]\n",
    "    return f\n",
    "\n",
    "def ngrams(data, labels, ntrain, mn=1, mx=1, nm=500, binary = False, donorm = False, stopwords = False, verbose = True, analyzer_char = False):\n",
    "    f = data\n",
    "    if donorm:\n",
    "        f = normalize(f)\n",
    "    \n",
    "    ftrain = f[:ntrain]\n",
    "    ftest  = f[ntrain:]\n",
    "    y_train = labels[:ntrain]\n",
    "    \n",
    "    t0 = time()\n",
    "    analyzer_type = 'word'\n",
    "    if analyzer_char:\n",
    "        analyzer_type = 'char'\n",
    "        \n",
    "    if binary:\n",
    "        vectorizer = CountVectorizer(max_n=mx,min_n=mn,binary=True)\n",
    "    elif stopwords:\n",
    "        vectorizer = TfidfVectorizer(max_n=mx,min_n=mn,stop_words='english',analyzer=analyzer_type,sublinear_tf=True)\n",
    "    else:\n",
    "        vectorizer = TfidfVectorizer(ngram_range=(mn,mx),sublinear_tf=True,analyzer=analyzer_type,lowercase=True)\n",
    "\n",
    "    if verbose:\n",
    "        print(\"extracting ngrams... where n is [%d,%d]\" % (mn,mx))\n",
    "    \n",
    "    X_train = vectorizer.fit_transform(ftrain)\n",
    "    X_test = vectorizer.transform(ftest)\n",
    "    #print(ftrain[:10])\n",
    "    \n",
    "    if verbose:\n",
    "        print(\"done in %fs\" % (time() - t0), X_train.shape, X_test.shape)\n",
    "\n",
    "    y = np.array(y_train)    \n",
    "    \n",
    "    numFts = nm\n",
    "    if numFts < X_train.shape[1]:\n",
    "        t0 = time()\n",
    "        ch2 = SelectKBest(chi2, k=numFts)\n",
    "        X_train = ch2.fit_transform(X_train, y)\n",
    "        X_test = ch2.transform(X_test)\n",
    "        assert sp.issparse(X_train)        \n",
    "\n",
    "    if verbose:\n",
    "        print(\"Extracting best features by a chi-squared test.. \", X_train.shape, X_test.shape)\n",
    "    return X_train, y, X_test"
   ]
  },
  {
   "cell_type": "code",
   "execution_count": 83,
   "metadata": {},
   "outputs": [
    {
     "name": "stdout",
     "output_type": "stream",
     "text": [
      "extracting ngrams... where n is [1,1]\n",
      "done in 0.106960s (5278, 12487) (587, 12487)\n",
      "Extracting best features by a chi-squared test..  (5278, 5000) (587, 5000)\n",
      "extracting ngrams... where n is [2,2]\n",
      "done in 0.205589s (5278, 46062) (587, 46062)\n",
      "Extracting best features by a chi-squared test..  (5278, 2000) (587, 2000)\n",
      "extracting ngrams... where n is [3,3]\n",
      "done in 0.204229s (5278, 62730) (587, 62730)\n",
      "Extracting best features by a chi-squared test..  (5278, 1000) (587, 1000)\n",
      "extracting ngrams... where n is [4,4]\n",
      "done in 0.309832s (5278, 40150) (587, 40150)\n",
      "Extracting best features by a chi-squared test..  (5278, 3000) (587, 3000)\n",
      "extracting ngrams... where n is [5,5]\n",
      "done in 0.428046s (5278, 86102) (587, 86102)\n",
      "Extracting best features by a chi-squared test..  (5278, 5000) (587, 5000)\n",
      "extracting ngrams... where n is [3,3]\n",
      "done in 0.259565s (5278, 13409) (587, 13409)\n",
      "Extracting best features by a chi-squared test..  (5278, 2000) (587, 2000)\n",
      "######## Total time for feature extraction: 1.738507s (587, 27583) (587, 27583)\n"
     ]
    }
   ],
   "source": [
    "train = tr_txt\n",
    "test = val_txt\n",
    "labels = tr_y\n",
    "\n",
    "data = train + test\n",
    "n = len(data)\n",
    "ntrain = len(train)\n",
    "\n",
    "verbose = True\n",
    "\n",
    "t0 = time()\n",
    "\n",
    "X_train1, y_train, X_test1 = ngrams(data, labels, ntrain, 1, 1, 5000, donorm = True, verbose = verbose)\n",
    "X_train2, y_train, X_test2 = ngrams(data, labels, ntrain, 2, 2, 2000, donorm = True, verbose = verbose)\n",
    "X_train3, y_train, X_test3 = ngrams(data, labels, ntrain, 3, 3, 1000,  donorm = True, verbose = verbose)\n",
    "X_train4, y_train, X_test4 = ngrams(data, labels, ntrain, 4, 4, 3000, donorm = True, verbose = verbose, analyzer_char = True)    \n",
    "X_train5, y_train, X_test5 = ngrams(data, labels, ntrain, 5, 5, 5000, donorm = True, verbose = verbose, analyzer_char = True)    \n",
    "X_train6, y_train, X_test6 = ngrams(data, labels, ntrain, 3, 3, 2000, donorm = True, verbose = verbose, analyzer_char = True)\n",
    "\n",
    "from sklearn import metrics, preprocessing\n",
    "\n",
    "#from numpy import genfromtxt\n",
    "#ft_tr = genfromtxt('tr.w', delimiter=' ')\n",
    "#ft_tr2=preprocessing.normalize(ft_tr, norm='l1')\n",
    "\n",
    "#from numpy import genfromtxt\n",
    "#ft_te = genfromtxt('te.w', delimiter=' ')\n",
    "#ft_te2=preprocessing.normalize(ft_te, norm='l1')\n",
    "\n",
    "TRAIN = sp.hstack([X_train1, X_train2, X_train3, X_train4, X_train5, X_train6])#, ft_tr2])\n",
    "TEST = sp.hstack([X_test1,  X_test2,  X_test3, X_test4, X_test5, X_test6])#, ft_te2])\n",
    "\n",
    "#TR_DDR = preprocessing.normalize(TR_DDR, norm='l1')\n",
    "#TE_DDR = preprocessing.normalize(TE_DDR, norm='l1')\n",
    "\n",
    "#TR_DDR = ft_tr2\n",
    "#TE_DDR = ft_te2\n",
    "if verbose:\n",
    "    print(\"######## Total time for feature extraction: %fs\" % (time() - t0), TR_DDR.shape, TE_DDR.shape)"
   ]
  },
  {
   "cell_type": "code",
   "execution_count": 84,
   "metadata": {},
   "outputs": [
    {
     "data": {
      "text/plain": [
       "(5278, 18000)"
      ]
     },
     "execution_count": 84,
     "metadata": {},
     "output_type": "execute_result"
    }
   ],
   "source": [
    "TRAIN.shape"
   ]
  },
  {
   "cell_type": "code",
   "execution_count": 85,
   "metadata": {},
   "outputs": [
    {
     "data": {
      "text/plain": [
       "(587, 18000)"
      ]
     },
     "execution_count": 85,
     "metadata": {},
     "output_type": "execute_result"
    }
   ],
   "source": [
    "TEST.shape"
   ]
  },
  {
   "cell_type": "code",
   "execution_count": 86,
   "metadata": {},
   "outputs": [
    {
     "name": "stdout",
     "output_type": "stream",
     "text": [
      "[[382  36]\n",
      " [ 47 122]]\n",
      "              precision    recall  f1-score   support\n",
      "\n",
      "           0       0.89      0.91      0.90       418\n",
      "           1       0.77      0.72      0.75       169\n",
      "\n",
      "    accuracy                           0.86       587\n",
      "   macro avg       0.83      0.82      0.82       587\n",
      "weighted avg       0.86      0.86      0.86       587\n",
      "\n"
     ]
    }
   ],
   "source": [
    "import csv\n",
    "import argparse\n",
    "from sklearn.preprocessing import LabelEncoder\n",
    "from sklearn.metrics import accuracy_score, confusion_matrix, f1_score, precision_recall_fscore_support, roc_auc_score\n",
    "from sklearn import metrics, preprocessing\n",
    "import numpy as np\n",
    "\n",
    "from sklearn import svm, datasets\n",
    "from sklearn.linear_model import LogisticRegression\n",
    "from sklearn.model_selection import GridSearchCV\n",
    "    \n",
    "parameters = {'C': [.05, .12, .25, .5, 1, 2, 4]}\n",
    "\n",
    "svr = svm.LinearSVC(class_weight='balanced')\n",
    "grid = GridSearchCV(estimator=svr, param_grid=parameters, n_jobs=8, scoring=\"f1_macro\", cv=7)\n",
    "\n",
    "grid.fit(TRAIN, labels) \n",
    "\n",
    "y_pred = grid.predict(TEST)\n",
    "\n",
    "p, r, f, _ = precision_recall_fscore_support(val_y, y_pred, average='macro', pos_label=None)\n",
    "\n",
    "print(confusion_matrix(val_y, y_pred))\n",
    "print(metrics.classification_report(val_y, y_pred))"
   ]
  },
  {
   "cell_type": "markdown",
   "metadata": {},
   "source": [
    "# Entrenando con TODO"
   ]
  },
  {
   "cell_type": "code",
   "execution_count": 87,
   "metadata": {},
   "outputs": [],
   "source": [
    "test_txt, _ = get_texts_from_file(\"./agre/mex20_test_full.txt\", \"./agre/mex20_val_labels.txt\")"
   ]
  },
  {
   "cell_type": "code",
   "execution_count": 88,
   "metadata": {},
   "outputs": [
    {
     "name": "stdout",
     "output_type": "stream",
     "text": [
      "extracting ngrams... where n is [1,1]\n",
      "done in 0.111576s (5865, 13371) (1467, 13371)\n",
      "Extracting best features by a chi-squared test..  (5865, 5000) (1467, 5000)\n",
      "extracting ngrams... where n is [2,2]\n",
      "done in 0.200366s (5865, 50293) (1467, 50293)\n",
      "Extracting best features by a chi-squared test..  (5865, 2000) (1467, 2000)\n",
      "extracting ngrams... where n is [3,3]\n",
      "done in 0.234888s (5865, 69440) (1467, 69440)\n",
      "Extracting best features by a chi-squared test..  (5865, 1000) (1467, 1000)\n",
      "extracting ngrams... where n is [4,4]\n",
      "done in 0.438125s (5865, 42253) (1467, 42253)\n",
      "Extracting best features by a chi-squared test..  (5865, 3000) (1467, 3000)\n",
      "extracting ngrams... where n is [5,5]\n",
      "done in 0.498322s (5865, 91279) (1467, 91279)\n",
      "Extracting best features by a chi-squared test..  (5865, 5000) (1467, 5000)\n",
      "extracting ngrams... where n is [3,3]\n",
      "done in 0.316037s (5865, 14043) (1467, 14043)\n",
      "Extracting best features by a chi-squared test..  (5865, 2000) (1467, 2000)\n",
      "######## Total time for feature extraction: 2.050817s (587, 27583) (587, 27583)\n"
     ]
    }
   ],
   "source": [
    "train = tr_txt + val_txt\n",
    "test = test_txt\n",
    "labels = tr_y + val_y\n",
    "\n",
    "data = train + test\n",
    "n = len(data)\n",
    "ntrain = len(train)\n",
    "\n",
    "verbose = True\n",
    "\n",
    "t0 = time()\n",
    "\n",
    "X_train1, y_train, X_test1 = ngrams(data, labels, ntrain, 1, 1, 5000, donorm = True, verbose = verbose)\n",
    "X_train2, y_train, X_test2 = ngrams(data, labels, ntrain, 2, 2, 2000, donorm = True, verbose = verbose)\n",
    "X_train3, y_train, X_test3 = ngrams(data, labels, ntrain, 3, 3, 1000,  donorm = True, verbose = verbose)\n",
    "X_train4, y_train, X_test4 = ngrams(data, labels, ntrain, 4, 4, 3000, donorm = True, verbose = verbose, analyzer_char = True)    \n",
    "X_train5, y_train, X_test5 = ngrams(data, labels, ntrain, 5, 5, 5000, donorm = True, verbose = verbose, analyzer_char = True)    \n",
    "X_train6, y_train, X_test6 = ngrams(data, labels, ntrain, 3, 3, 2000, donorm = True, verbose = verbose, analyzer_char = True)\n",
    "\n",
    "from sklearn import metrics, preprocessing\n",
    "\n",
    "#from numpy import genfromtxt\n",
    "#ft_tr = genfromtxt('tr.w', delimiter=' ')\n",
    "#ft_tr2=preprocessing.normalize(ft_tr, norm='l1')\n",
    "\n",
    "#from numpy import genfromtxt\n",
    "#ft_te = genfromtxt('te.w', delimiter=' ')\n",
    "#ft_te2=preprocessing.normalize(ft_te, norm='l1')\n",
    "\n",
    "TRAIN = sp.hstack([X_train1, X_train2, X_train3, X_train4, X_train5, X_train6])#, ft_tr2])\n",
    "TEST = sp.hstack([X_test1,  X_test2,  X_test3, X_test4, X_test5, X_test6])#, ft_te2])\n",
    "\n",
    "#TR_DDR = preprocessing.normalize(TR_DDR, norm='l1')\n",
    "#TE_DDR = preprocessing.normalize(TE_DDR, norm='l1')\n",
    "\n",
    "#TR_DDR = ft_tr2\n",
    "#TE_DDR = ft_te2\n",
    "if verbose:\n",
    "    print(\"######## Total time for feature extraction: %fs\" % (time() - t0), TR_DDR.shape, TE_DDR.shape)"
   ]
  },
  {
   "cell_type": "code",
   "execution_count": 89,
   "metadata": {},
   "outputs": [
    {
     "data": {
      "text/plain": [
       "(5865, 18000)"
      ]
     },
     "execution_count": 89,
     "metadata": {},
     "output_type": "execute_result"
    }
   ],
   "source": [
    "TRAIN.shape"
   ]
  },
  {
   "cell_type": "code",
   "execution_count": 90,
   "metadata": {},
   "outputs": [
    {
     "data": {
      "text/plain": [
       "5865"
      ]
     },
     "execution_count": 90,
     "metadata": {},
     "output_type": "execute_result"
    }
   ],
   "source": [
    "len(labels)"
   ]
  },
  {
   "cell_type": "code",
   "execution_count": 91,
   "metadata": {},
   "outputs": [],
   "source": [
    "import csv\n",
    "import argparse\n",
    "from sklearn.preprocessing import LabelEncoder\n",
    "from sklearn.metrics import accuracy_score, confusion_matrix, f1_score, precision_recall_fscore_support, roc_auc_score\n",
    "from sklearn import metrics, preprocessing\n",
    "import numpy as np\n",
    "\n",
    "from sklearn import svm, datasets\n",
    "from sklearn.linear_model import LogisticRegression\n",
    "from sklearn.model_selection import GridSearchCV\n",
    "    \n",
    "parameters = {'C': [.05, .12, .25, .5, 1, 2, 4]}\n",
    "\n",
    "svr = svm.LinearSVC(class_weight='balanced')\n",
    "grid = GridSearchCV(estimator=svr, param_grid=parameters, n_jobs=8, scoring=\"f1_macro\", cv=7)\n",
    "\n",
    "grid.fit(TRAIN, labels) \n",
    "\n",
    "y_pred = grid.predict(TEST)\n",
    "\n",
    "f = open(\"pastor.csv\", \"w\")\n",
    "f.write(\"Id,Expected\\n\")\n",
    "for pred, n in zip(y_pred, range(len(y_pred))):\n",
    "    f.write(str(n) + \",\" + str(pred) + \"\\n\")\n",
    "f.close()\n",
    "\n",
    "#p, r, f, _ = precision_recall_fscore_support(val_y, y_pred, average='macro', pos_label=None)\n",
    "\n",
    "#print(confusion_matrix(val_y, y_pred))\n",
    "#print(metrics.classification_report(val_y, y_pred))"
   ]
  }
 ],
 "metadata": {
  "kernelspec": {
   "display_name": "Python 3",
   "language": "python",
   "name": "python3"
  },
  "language_info": {
   "codemirror_mode": {
    "name": "ipython",
    "version": 3
   },
   "file_extension": ".py",
   "mimetype": "text/x-python",
   "name": "python",
   "nbconvert_exporter": "python",
   "pygments_lexer": "ipython3",
   "version": "3.7.4"
  }
 },
 "nbformat": 4,
 "nbformat_minor": 4
}

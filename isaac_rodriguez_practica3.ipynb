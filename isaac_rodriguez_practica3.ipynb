{
 "cells": [
  {
   "cell_type": "markdown",
   "metadata": {},
   "source": [
    "# Isaac Rodríguez Bribiesca:\n",
    "## Procesamiento de Lenguaje Natural\n",
    "## Práctica 3: Bolsas de Términos y esquemas de pesado"
   ]
  },
  {
   "cell_type": "markdown",
   "metadata": {},
   "source": [
    "### Lectura simple de datos"
   ]
  },
  {
   "cell_type": "code",
   "execution_count": 1,
   "metadata": {},
   "outputs": [
    {
     "name": "stderr",
     "output_type": "stream",
     "text": [
      "Using TensorFlow backend.\n"
     ]
    }
   ],
   "source": [
    "import os\n",
    "import re\n",
    "from keras.preprocessing.text import Tokenizer\n",
    "def get_texts_from_file(path_corpus, path_truth):\n",
    "    tr_txt = []\n",
    "    tr_y = []\n",
    "    with open(path_corpus, \"r\") as f_corpus, open(path_truth, \"r\") as f_truth:\n",
    "        for twitt in f_corpus:\n",
    "            tr_txt += [twitt]\n",
    "        for label in f_truth:\n",
    "            tr_y += [label]        \n",
    "    return tr_txt, tr_y\n",
    "\n"
   ]
  },
  {
   "cell_type": "code",
   "execution_count": 2,
   "metadata": {},
   "outputs": [],
   "source": [
    "tr_txt, tr_y = get_texts_from_file(\"./mex_train.txt\", \"./mex_train_labels.txt\")"
   ]
  },
  {
   "cell_type": "markdown",
   "metadata": {},
   "source": [
    "### Estadisticas Simples"
   ]
  },
  {
   "cell_type": "code",
   "execution_count": 3,
   "metadata": {},
   "outputs": [],
   "source": [
    "tr_y = list(map(int, tr_y))"
   ]
  },
  {
   "cell_type": "code",
   "execution_count": 4,
   "metadata": {},
   "outputs": [
    {
     "name": "stdout",
     "output_type": "stream",
     "text": [
      "Counter({0: 3563, 1: 1981})\n"
     ]
    },
    {
     "data": {
      "image/png": "[encoded data removed]",
      "text/plain": [
       "<Figure size 432x288 with 1 Axes>"
      ]
     },
     "metadata": {
      "needs_background": "light"
     },
     "output_type": "display_data"
    }
   ],
   "source": [
    "from collections import Counter\n",
    "import matplotlib.pyplot as plt\n",
    "%matplotlib inline\n",
    "\n",
    "print(Counter(tr_y))\n",
    "plt.hist(tr_y, bins=len(set(tr_y)))\n",
    "plt.ylabel('Users');\n",
    "plt.xlabel('Class');"
   ]
  },
  {
   "cell_type": "markdown",
   "metadata": {},
   "source": [
    "# Un ojo a los datos"
   ]
  },
  {
   "cell_type": "code",
   "execution_count": 5,
   "metadata": {},
   "outputs": [
    {
     "data": {
      "text/plain": [
       "['lo peor de todo es que no me dan por un tiempo y luego vuelven estoy hasta la verga de estl\\n',\n",
       " 'a la vga no seas mamón 45 putos minutos después me dices que apenas sales no me querías avisar en 3 horas? 😑\\n',\n",
       " 'considero que lo más conveniente seria que lo retes a unos vergazos mi jelipe! rómpele la madre a ese pinchi joto!\\n',\n",
       " 'el marica de mi ex me tiene bloqueada de todo así  uno no puede admirar la \"belleza\" de su garnacha 😂\\n',\n",
       " 'mujer despechadaya pinche amlo hazle esta que se pela la loca #reynosafollow #reynosa\\n',\n",
       " 'putos. no tienen madre. ambriados mantenidos. ojetes. como es posible. mejor matarlos\\n',\n",
       " 'ustedes si puden andar de chanceros pero cuidadito y seamos nosotras porque luego luego empiezan a mamar hijos de la chingada.\\n',\n",
       " '@usuario jajjaja te digo esa madre si está buena ajjaja\\n',\n",
       " 'odio los putos trámites de titulación 😡😡😡😡😡😡😡😡😡😡😡 pero me urge la precedula.\\n',\n",
       " '@usuario no te equivocabas mi madre y tu tenían muchísima razón siempre es mejor lo que viene 💚\\n']"
      ]
     },
     "execution_count": 5,
     "metadata": {},
     "output_type": "execute_result"
    }
   ],
   "source": [
    "tr_txt[:10]"
   ]
  },
  {
   "cell_type": "code",
   "execution_count": 6,
   "metadata": {},
   "outputs": [
    {
     "data": {
      "text/plain": [
       "5544"
      ]
     },
     "execution_count": 6,
     "metadata": {},
     "output_type": "execute_result"
    }
   ],
   "source": [
    "len(tr_txt)"
   ]
  },
  {
   "cell_type": "markdown",
   "metadata": {},
   "source": [
    "### Construcción simple del vocabulario"
   ]
  },
  {
   "cell_type": "code",
   "execution_count": 7,
   "metadata": {},
   "outputs": [],
   "source": [
    "import nltk"
   ]
  },
  {
   "cell_type": "code",
   "execution_count": 8,
   "metadata": {},
   "outputs": [],
   "source": [
    "corpus_palabras = []\n",
    "for doc in tr_txt:\n",
    "    corpus_palabras += doc.split()\n",
    "#print(corpus_palabras)\n",
    "fdist = nltk.FreqDist(corpus_palabras)"
   ]
  },
  {
   "cell_type": "code",
   "execution_count": 9,
   "metadata": {},
   "outputs": [
    {
     "data": {
      "text/plain": [
       "FreqDist({'de': 3342, 'que': 3336, 'a': 2605, 'la': 2417, 'y': 2225, 'no': 1743, 'me': 1582, 'el': 1285, '@usuario': 1243, 'en': 1184, ...})"
      ]
     },
     "execution_count": 9,
     "metadata": {},
     "output_type": "execute_result"
    }
   ],
   "source": [
    "fdist"
   ]
  },
  {
   "cell_type": "code",
   "execution_count": 10,
   "metadata": {},
   "outputs": [
    {
     "data": {
      "text/plain": [
       "17055"
      ]
     },
     "execution_count": 10,
     "metadata": {},
     "output_type": "execute_result"
    }
   ],
   "source": [
    "len(fdist)"
   ]
  },
  {
   "cell_type": "code",
   "execution_count": 11,
   "metadata": {},
   "outputs": [],
   "source": [
    "def sortFreqDict(freqdict):\n",
    "    aux = [(freqdict[key], key) for key in freqdict]\n",
    "    aux.sort()\n",
    "    aux.reverse()\n",
    "    return aux"
   ]
  },
  {
   "cell_type": "code",
   "execution_count": 12,
   "metadata": {},
   "outputs": [],
   "source": [
    "V = sortFreqDict(fdist)\n",
    "V = V[:5000]"
   ]
  },
  {
   "cell_type": "code",
   "execution_count": 13,
   "metadata": {},
   "outputs": [],
   "source": [
    "dict_indices = dict()\n",
    "cont = 0\n",
    "for weight, word in V:\n",
    "    dict_indices[word] = cont\n",
    "    cont += 1"
   ]
  },
  {
   "cell_type": "markdown",
   "metadata": {},
   "source": [
    "### Bolsa de Términos"
   ]
  },
  {
   "cell_type": "code",
   "execution_count": 14,
   "metadata": {},
   "outputs": [],
   "source": [
    "import numpy as np\n",
    "def build_bow_tr(tr_txt, V, dict_indices):\n",
    "    BOW = np.zeros((len(tr_txt),len(V)), dtype=int)\n",
    "    cont_doc = 0\n",
    "    for tr in tr_txt:\n",
    "        fdist_doc = nltk.FreqDist(tr.split())\n",
    "        for word in fdist_doc:\n",
    "            if word in dict_indices:\n",
    "                BOW[cont_doc, dict_indices[word]] = 1\n",
    "        cont_doc += 1\n",
    "\n",
    "    return BOW"
   ]
  },
  {
   "cell_type": "markdown",
   "metadata": {},
   "source": [
    "### Debug?"
   ]
  },
  {
   "cell_type": "code",
   "execution_count": 15,
   "metadata": {},
   "outputs": [
    {
     "data": {
      "text/plain": [
       "'\"no me importa lo que digan esos putos periodistas la puta que los pario oh oh oh hay que alentar a la selección\"\\n'"
      ]
     },
     "execution_count": 15,
     "metadata": {},
     "output_type": "execute_result"
    }
   ],
   "source": [
    "tr_txt[10]"
   ]
  },
  {
   "cell_type": "code",
   "execution_count": 16,
   "metadata": {},
   "outputs": [],
   "source": [
    "fdist_doc = nltk.FreqDist(tr_txt[10].split())"
   ]
  },
  {
   "cell_type": "code",
   "execution_count": 17,
   "metadata": {},
   "outputs": [
    {
     "data": {
      "text/plain": [
       "FreqDist({'que': 3, 'oh': 3, 'la': 2, '\"no': 1, 'me': 1, 'importa': 1, 'lo': 1, 'digan': 1, 'esos': 1, 'putos': 1, ...})"
      ]
     },
     "execution_count": 17,
     "metadata": {},
     "output_type": "execute_result"
    }
   ],
   "source": [
    "fdist_doc"
   ]
  },
  {
   "cell_type": "markdown",
   "metadata": {},
   "source": [
    "### Bolsa de Terminos en Validación"
   ]
  },
  {
   "cell_type": "code",
   "execution_count": 18,
   "metadata": {},
   "outputs": [],
   "source": [
    "BOW_tr=build_bow_tr(tr_txt, V, dict_indices)"
   ]
  },
  {
   "cell_type": "code",
   "execution_count": 19,
   "metadata": {},
   "outputs": [
    {
     "name": "stdout",
     "output_type": "stream",
     "text": [
      "[(3342, 'de'), (3336, 'que'), (2605, 'a'), (2417, 'la'), (2225, 'y'), (1743, 'no'), (1582, 'me'), (1285, 'el'), (1243, '@usuario'), (1184, 'en')]\n"
     ]
    }
   ],
   "source": [
    "print(V[:10])"
   ]
  },
  {
   "cell_type": "code",
   "execution_count": 20,
   "metadata": {},
   "outputs": [],
   "source": [
    "import sys\n",
    "import numpy\n",
    "numpy.set_printoptions(threshold=sys.maxsize)\n",
    "#print(BOW[10])"
   ]
  },
  {
   "cell_type": "code",
   "execution_count": 21,
   "metadata": {},
   "outputs": [],
   "source": [
    "val_txt, val_y = get_texts_from_file(\"./mex_val.txt\", \"./mex_val_labels.txt\")"
   ]
  },
  {
   "cell_type": "code",
   "execution_count": 22,
   "metadata": {},
   "outputs": [],
   "source": [
    "val_y = list(map(int, val_y))"
   ]
  },
  {
   "cell_type": "code",
   "execution_count": 23,
   "metadata": {},
   "outputs": [
    {
     "name": "stdout",
     "output_type": "stream",
     "text": [
      "Counter({0: 397, 1: 219})\n"
     ]
    },
    {
     "data": {
      "image/png": "[encoded data removed]",
      "text/plain": [
       "<Figure size 432x288 with 1 Axes>"
      ]
     },
     "metadata": {
      "needs_background": "light"
     },
     "output_type": "display_data"
    }
   ],
   "source": [
    "from collections import Counter\n",
    "import matplotlib.pyplot as plt\n",
    "%matplotlib inline\n",
    "\n",
    "print(Counter(val_y))\n",
    "plt.hist(val_y, bins=len(set(val_y)))\n",
    "plt.ylabel('Users');\n",
    "plt.xlabel('Class');"
   ]
  },
  {
   "cell_type": "code",
   "execution_count": 24,
   "metadata": {},
   "outputs": [
    {
     "data": {
      "text/plain": [
       "['así debería ser siempre para que se mueran a la verga\\n',\n",
       " 'cada día me siento como un perro ovejero tratando de cuidar sus ovejas vale madre pinches rateros póngase a trabajar.😤\\n',\n",
       " 'hijo de tu puta madre nadamas te la pasas mamando pinche wilo de closet\\n',\n",
       " 'soñé horrible espero no se cumpla putos temblores.\\n',\n",
       " '@usuario mejor vas y la chingas tú veo tus publicaciones y solo denotan inconformidad como típico ciudadano quejumbroso que no hace nada por cambiar\\n',\n",
       " 'y quizás este loca y quizás me guste estarlo... #siempreneruda\\n',\n",
       " 'me tienen hasta la verga con sus putos #boomerang pendejos y sin sentido.\\n',\n",
       " 'cuando va a ser el día que encuentre a alguien en quien pueda  confiar posts la re puta madre?\\n',\n",
       " '#ahoritaestoypensando  como putas puede pasar esto?\\n',\n",
       " '#todoibabienpero valio madre ya me atacó el insomnio🙅\\n']"
      ]
     },
     "execution_count": 24,
     "metadata": {},
     "output_type": "execute_result"
    }
   ],
   "source": [
    "val_txt[:10]"
   ]
  },
  {
   "cell_type": "code",
   "execution_count": 25,
   "metadata": {},
   "outputs": [],
   "source": [
    "BOW_val=build_bow_tr(val_txt, V, dict_indices)"
   ]
  },
  {
   "cell_type": "markdown",
   "metadata": {},
   "source": [
    "### Clasificación"
   ]
  },
  {
   "cell_type": "code",
   "execution_count": 26,
   "metadata": {},
   "outputs": [
    {
     "name": "stdout",
     "output_type": "stream",
     "text": [
      "[[327  70]\n",
      " [ 58 161]]\n",
      "              precision    recall  f1-score   support\n",
      "\n",
      "           0       0.85      0.82      0.84       397\n",
      "           1       0.70      0.74      0.72       219\n",
      "\n",
      "    accuracy                           0.79       616\n",
      "   macro avg       0.77      0.78      0.78       616\n",
      "weighted avg       0.80      0.79      0.79       616\n",
      "\n"
     ]
    }
   ],
   "source": [
    "import csv\n",
    "import argparse\n",
    "from sklearn.preprocessing import LabelEncoder\n",
    "from sklearn.metrics import accuracy_score, confusion_matrix, f1_score, precision_recall_fscore_support, roc_auc_score\n",
    "from sklearn import metrics, preprocessing\n",
    "import numpy as np\n",
    "\n",
    "from sklearn import svm, datasets\n",
    "from sklearn.linear_model import LogisticRegression\n",
    "from sklearn.model_selection import GridSearchCV\n",
    "    \n",
    "parameters = {'C': [.05, .12, .25, .5, 1, 2, 4]}\n",
    "\n",
    "svr = svm.LinearSVC(class_weight='balanced')\n",
    "grid = GridSearchCV(estimator=svr, param_grid=parameters, n_jobs=8, scoring=\"f1_macro\", cv=5)\n",
    "\n",
    "grid.fit(BOW_tr, tr_y) \n",
    "\n",
    "y_pred = grid.predict(BOW_val)\n",
    "\n",
    "p, r, f, _ = precision_recall_fscore_support(val_y, y_pred, average='macro', pos_label=None)\n",
    "\n",
    "print(confusion_matrix(val_y, y_pred))\n",
    "print(metrics.classification_report(val_y, y_pred))"
   ]
  },
  {
   "cell_type": "markdown",
   "metadata": {},
   "source": [
    "### Errores"
   ]
  },
  {
   "cell_type": "code",
   "execution_count": 27,
   "metadata": {},
   "outputs": [],
   "source": [
    "incorrect = []\n",
    "for e in zip(val_y,y_pred,range(len(val_y))):\n",
    "    #print(e[0])\n",
    "    #print(e[1])\n",
    "    if e[0] != e[1]:\n",
    "        incorrect += [e[2]]"
   ]
  },
  {
   "cell_type": "code",
   "execution_count": 28,
   "metadata": {},
   "outputs": [
    {
     "name": "stdout",
     "output_type": "stream",
     "text": [
      "Texto:  ya a cualquier prieto le dicen licenciado peludito tengan madre\n",
      "Truth:  1\n",
      "Pred:  0\n",
      "Texto:  ahora si a chingar a su madre la fecha fifa y ahora si a disfrutar de nuestra gloriosa liga mx.\n",
      "Truth:  0\n",
      "Pred:  1\n",
      "Texto:  por qué chingadasmadres no matan al rival puta madre!!! @usuario 😡😡😡😡😡😡😡😡😡\n",
      "Truth:  0\n",
      "Pred:  1\n",
      "Texto:  la neta... si yo fuera messi les dijera \"chinguen a su madre putos yo hice todo\".\n",
      "Truth:  0\n",
      "Pred:  1\n",
      "Texto:  qué pedo ..?? con el norte llueve o que verga ..??? mucho desmadre de tráfico y el metro del pitó !!!\n",
      "Truth:  0\n",
      "Pred:  1\n",
      "Texto:  pinche hocicón... ya acepta la voluntad de tu madre... sí es que tienes que lo dudo tu misma madre te mando a la verga del testamento...\n",
      "Truth:  1\n",
      "Pred:  0\n",
      "Texto:  no quería mentarte la madre tan temprano pinche maricón il \"buasap\" pinche millenial cacha moscas\n",
      "Truth:  1\n",
      "Pred:  0\n",
      "Texto:  los putos a chin.... a su madre! ya me harté de seguir todo el mundo seguiré lo que yo quiera.\n",
      "Truth:  1\n",
      "Pred:  0\n",
      "Texto:  @usuario no tienen abuela madre vergüenza....\n",
      "Truth:  1\n",
      "Pred:  0\n",
      "Texto:  firmado por toda la pandilla de @usuario a toda madre estos carnales saludos cuernavaca presente. yeah !!\n",
      "Truth:  0\n",
      "Pred:  1\n",
      "Texto:  dicen que el amor es de putos! y pues q puto resulte  jajaja valí madre desde que la conocí!\n",
      "Truth:  0\n",
      "Pred:  1\n",
      "Texto:  ni madres si se quiere ir que se vaya alv. a rogar a la iglesia. no mereces miserias!!!\n",
      "Truth:  1\n",
      "Pred:  0\n",
      "Texto:  @usuario pa la madre!!!!!! han de ser de importacion\n",
      "Truth:  0\n",
      "Pred:  1\n",
      "Texto:  prácticamente lauren dijo \"me la pelan todos vayanse a chingar a su madre putos\" pero con estilo i lov mi reina\n",
      "Truth:  0\n",
      "Pred:  1\n",
      "Texto:  qué putas madres tienen en la cabeza para que se les antoje un cigarro antes de las 8:00 am??\n",
      "Truth:  0\n",
      "Pred:  1\n",
      "Texto:  ya chingo a su madre la güera loca de trump como lider munfial ya nadie confia en el ni en los gringos...juar...juar...juar...!!!\n",
      "Truth:  1\n",
      "Pred:  0\n",
      "Texto:  esto si es no tener madre no tener respeto por absolutamente nada. una cosa es ejecutar al enemigo pero matar con saña a civiles indigna. <url>\n",
      "Truth:  1\n",
      "Pred:  0\n",
      "Texto:  ah qué poca madre aretes y pestañas al perro que las usen sus pinches dueñas pars ver si se les quita lo ignorante. <url>\n",
      "Truth:  0\n",
      "Pred:  1\n",
      "Texto:  ¿ se refiere usted a la hibris de vicente fox y martita ?  @usuario o ésa hibris le vale madre ?\n",
      "Truth:  0\n",
      "Pred:  1\n"
     ]
    }
   ],
   "source": [
    "for e in incorrect:\n",
    "    case = e\n",
    "    if \"madre\" in val_txt[case].strip():\n",
    "        print(\"Texto: \", val_txt[case].strip())\n",
    "        print(\"Truth: \", val_y[case])\n",
    "        print(\"Pred: \", y_pred[case])\n",
    "        #print(\"PredProba: \", y_pred_proba[case])"
   ]
  },
  {
   "cell_type": "markdown",
   "metadata": {},
   "source": [
    "# Tu turno:\n",
    "## Realiza los siguientes ejercicios en esta clase:"
   ]
  },
  {
   "cell_type": "markdown",
   "metadata": {},
   "source": [
    "## 1) Bolsa de Palabras con frecuencia y clasifique: Haga bolsa de palabras en dónde cada término tenga frecuencia bruta en lugar de pesado binario"
   ]
  },
  {
   "cell_type": "code",
   "execution_count": 29,
   "metadata": {},
   "outputs": [],
   "source": [
    "def build_bow_tr_1(tr_txt, V, dict_indices):\n",
    "    BOW = np.zeros((len(tr_txt),len(V)), dtype=int)\n",
    "    cont_doc = 0\n",
    "    for tr in tr_txt:\n",
    "        fdist_doc = nltk.FreqDist(tr.split())\n",
    "        for word in fdist_doc:\n",
    "            if word in dict_indices:\n",
    "                BOW[cont_doc, dict_indices[word]] = fdist_doc[word]\n",
    "        cont_doc += 1\n",
    "        \n",
    "    return BOW"
   ]
  },
  {
   "cell_type": "markdown",
   "metadata": {},
   "source": [
    "## 2) Bolsa de Palabras con frecuencia normalizada y clasifique: Haga bolsa de palabras en dónde cada término tenga frecuencia normalizada a sumar 1 por documento"
   ]
  },
  {
   "cell_type": "code",
   "execution_count": 30,
   "metadata": {},
   "outputs": [],
   "source": [
    "def build_bow_tr_2(tr_txt, V, dict_indices):\n",
    "    BOW = np.zeros((len(tr_txt),len(V)), dtype=np.float64)\n",
    "    cont_doc = 0\n",
    "    for tr in tr_txt:\n",
    "        fdist_doc = nltk.FreqDist(tr.split())\n",
    "        total = sum(fdist_doc.values())\n",
    "        \n",
    "        if total == 0:\n",
    "            total = 1\n",
    "\n",
    "        for word in fdist_doc:\n",
    "            if word in dict_indices:\n",
    "                BOW[cont_doc, dict_indices[word]] += fdist_doc[word]/total\n",
    "        cont_doc += 1\n",
    "        \n",
    "    return BOW"
   ]
  },
  {
   "cell_type": "markdown",
   "metadata": {},
   "source": [
    "## 3) Bolsa de Palabras Normalizada con la norma del vector (un vector unitario por documento)"
   ]
  },
  {
   "cell_type": "code",
   "execution_count": 31,
   "metadata": {},
   "outputs": [],
   "source": [
    "def build_bow_tr_3(tr_txt, V, dict_indices):\n",
    "    BOW = np.zeros((len(tr_txt),len(V)), dtype=np.float64)\n",
    "    cont_doc = 0\n",
    "    for tr in tr_txt:\n",
    "        fdist_doc = nltk.FreqDist(tr.split())\n",
    "        for word in fdist_doc:\n",
    "            if word in dict_indices:\n",
    "                BOW[cont_doc, dict_indices[word]] = fdist_doc[word]\n",
    "        cont_doc += 1\n",
    "        \n",
    "    for i in range(BOW.shape[0]):\n",
    "        norm = np.linalg.norm(BOW[i])\n",
    "\n",
    "        if norm == 0:\n",
    "            norm = 1\n",
    "\n",
    "        BOW[i] = BOW[i]/norm\n",
    "        \n",
    "    return BOW"
   ]
  },
  {
   "cell_type": "markdown",
   "metadata": {},
   "source": [
    "## 4) Bolsa de Palabras con TFIDF y clasifique"
   ]
  },
  {
   "cell_type": "code",
   "execution_count": 32,
   "metadata": {},
   "outputs": [],
   "source": [
    "def build_bow_tr_4(tr_txt, V, dict_indices):\n",
    "    \n",
    "    BOW = np.zeros((len(tr_txt),len(V)), dtype=np.float64)\n",
    "    cont_doc = 0\n",
    "    \n",
    "    df = {}\n",
    "    \n",
    "    for word in dict_indices.keys():\n",
    "        for tr in tr_txt:\n",
    "            if word in tr:\n",
    "                if not word in df:\n",
    "                    df[word] = 1\n",
    "                else:\n",
    "                    df[word] += 1\n",
    "    \n",
    "    for tr in tr_txt:\n",
    "        fdist_doc = nltk.FreqDist(tr.split())\n",
    "        for word in fdist_doc:\n",
    "            if word in dict_indices:\n",
    "                BOW[cont_doc, dict_indices[word]] = fdist_doc[word]*np.log10((len(tr_txt)/df[word]))\n",
    "        cont_doc += 1\n",
    "        \n",
    "    return BOW"
   ]
  },
  {
   "cell_type": "markdown",
   "metadata": {},
   "source": [
    " ## 5) (Opcional) Mismo que anterior pero normalizando TFIDF con la norma del vector"
   ]
  },
  {
   "cell_type": "code",
   "execution_count": 33,
   "metadata": {},
   "outputs": [],
   "source": [
    "def build_bow_tr_5(tr_txt, V, dict_indices):\n",
    "    \n",
    "    BOW = np.zeros((len(tr_txt),len(V)), dtype=np.float64)\n",
    "    cont_doc = 0\n",
    "    \n",
    "    df = {}\n",
    "    \n",
    "    for word in dict_indices.keys():\n",
    "        for tr in tr_txt:\n",
    "            if word in tr:\n",
    "                if not word in df:\n",
    "                    df[word] = 1\n",
    "                else:\n",
    "                    df[word] += 1\n",
    "    \n",
    "    for tr in tr_txt:\n",
    "        fdist_doc = nltk.FreqDist(tr.split())\n",
    "        for word in fdist_doc:\n",
    "            if word in dict_indices:\n",
    "                BOW[cont_doc, dict_indices[word]] = fdist_doc[word]*np.log10((len(tr_txt)/df[word]))\n",
    "        cont_doc += 1\n",
    "        \n",
    "        \n",
    "    for i in range(BOW.shape[0]):\n",
    "        norm = np.linalg.norm(BOW[i])\n",
    "\n",
    "        if norm == 0:\n",
    "            norm = 1\n",
    "\n",
    "        BOW[i] = BOW[i]/norm\n",
    "        \n",
    "    return BOW"
   ]
  },
  {
   "cell_type": "markdown",
   "metadata": {},
   "source": [
    "## 6) (Opcional) Bolsa de Palabras con Top 10000 palabras más frecuentes"
   ]
  },
  {
   "cell_type": "code",
   "execution_count": 34,
   "metadata": {},
   "outputs": [],
   "source": [
    "def build_bow_tr_6(tr_txt, V, dict_indices):\n",
    "    BOW = np.zeros((len(tr_txt),len(V)), dtype=np.float64)\n",
    "    cont_doc = 0\n",
    "    \n",
    "    dict_indices = dict()\n",
    "    cont = 0\n",
    "    for weight, word in V:\n",
    "        dict_indices[word] = cont\n",
    "        cont += 1\n",
    "    \n",
    "    for tr in tr_txt:\n",
    "        fdist_doc = nltk.FreqDist(tr.split())\n",
    "        for word in fdist_doc:\n",
    "            if word in dict_indices:\n",
    "                BOW[cont_doc, dict_indices[word]] = fdist_doc[word]\n",
    "        cont_doc += 1\n",
    "        \n",
    "    return BOW"
   ]
  },
  {
   "cell_type": "markdown",
   "metadata": {},
   "source": [
    "## 7) (Opcional) Bolsa de Palabras descartando las top 1000 palabras más frecuentes y tomando las siguientes 5000"
   ]
  },
  {
   "cell_type": "code",
   "execution_count": 35,
   "metadata": {},
   "outputs": [],
   "source": [
    "def build_bow_tr_7(tr_txt, V, dict_indices):\n",
    "    BOW = np.zeros((len(tr_txt),len(V)), dtype=np.float64)\n",
    "    cont_doc = 0\n",
    "    \n",
    "    dict_indices = dict()\n",
    "    cont = 0\n",
    "    for weight, word in V:\n",
    "        dict_indices[word] = cont\n",
    "        cont += 1\n",
    "    \n",
    "    for tr in tr_txt:\n",
    "        fdist_doc = nltk.FreqDist(tr.split())\n",
    "        for word in fdist_doc:\n",
    "            if word in dict_indices:\n",
    "                BOW[cont_doc, dict_indices[word]] = fdist_doc[word]\n",
    "        cont_doc += 1\n",
    "        \n",
    "    return BOW"
   ]
  },
  {
   "cell_type": "markdown",
   "metadata": {},
   "source": [
    "## Compare models"
   ]
  },
  {
   "cell_type": "markdown",
   "metadata": {},
   "source": [
    "### Pesado binario"
   ]
  },
  {
   "cell_type": "code",
   "execution_count": 36,
   "metadata": {},
   "outputs": [
    {
     "name": "stdout",
     "output_type": "stream",
     "text": [
      "[[327  70]\n",
      " [ 58 161]]\n",
      "              precision    recall  f1-score   support\n",
      "\n",
      "           0       0.85      0.82      0.84       397\n",
      "           1       0.70      0.74      0.72       219\n",
      "\n",
      "    accuracy                           0.79       616\n",
      "   macro avg       0.77      0.78      0.78       616\n",
      "weighted avg       0.80      0.79      0.79       616\n",
      "\n"
     ]
    }
   ],
   "source": [
    "parameters = {'C': [.05, .12, .25, .5, 1, 2, 4]}\n",
    "\n",
    "svr = svm.LinearSVC(class_weight='balanced')\n",
    "grid = GridSearchCV(estimator=svr, param_grid=parameters, n_jobs=8, scoring=\"f1_macro\", cv=5)\n",
    "\n",
    "BOW_tr=build_bow_tr(tr_txt, V, dict_indices)\n",
    "BOW_val=build_bow_tr(val_txt, V, dict_indices)\n",
    "\n",
    "grid.fit(BOW_tr, tr_y) \n",
    "\n",
    "y_pred = grid.predict(BOW_val)\n",
    "\n",
    "p, r, f, _ = precision_recall_fscore_support(val_y, y_pred, average='macro', pos_label=None)\n",
    "\n",
    "print(confusion_matrix(val_y, y_pred))\n",
    "print(metrics.classification_report(val_y, y_pred))"
   ]
  },
  {
   "cell_type": "markdown",
   "metadata": {},
   "source": [
    "### 1) Frecuencia bruta"
   ]
  },
  {
   "cell_type": "code",
   "execution_count": 37,
   "metadata": {},
   "outputs": [
    {
     "name": "stdout",
     "output_type": "stream",
     "text": [
      "[[335  62]\n",
      " [ 52 167]]\n",
      "              precision    recall  f1-score   support\n",
      "\n",
      "           0       0.87      0.84      0.85       397\n",
      "           1       0.73      0.76      0.75       219\n",
      "\n",
      "    accuracy                           0.81       616\n",
      "   macro avg       0.80      0.80      0.80       616\n",
      "weighted avg       0.82      0.81      0.82       616\n",
      "\n"
     ]
    }
   ],
   "source": [
    "parameters = {'C': [.05, .12, .25, .5, 1, 2, 4]}\n",
    "\n",
    "svr = svm.LinearSVC(class_weight='balanced')\n",
    "grid = GridSearchCV(estimator=svr, param_grid=parameters, n_jobs=8, scoring=\"f1_macro\", cv=5)\n",
    "\n",
    "BOW_tr=build_bow_tr_1(tr_txt, V, dict_indices)\n",
    "BOW_val=build_bow_tr_1(val_txt, V, dict_indices)\n",
    "\n",
    "grid.fit(BOW_tr, tr_y) \n",
    "\n",
    "y_pred = grid.predict(BOW_val)\n",
    "\n",
    "p, r, f, _ = precision_recall_fscore_support(val_y, y_pred, average='macro', pos_label=None)\n",
    "\n",
    "print(confusion_matrix(val_y, y_pred))\n",
    "print(metrics.classification_report(val_y, y_pred))"
   ]
  },
  {
   "cell_type": "markdown",
   "metadata": {},
   "source": [
    "### 2) Frecuencia normalizada"
   ]
  },
  {
   "cell_type": "code",
   "execution_count": 38,
   "metadata": {},
   "outputs": [
    {
     "name": "stdout",
     "output_type": "stream",
     "text": [
      "[[315  82]\n",
      " [ 51 168]]\n",
      "              precision    recall  f1-score   support\n",
      "\n",
      "           0       0.86      0.79      0.83       397\n",
      "           1       0.67      0.77      0.72       219\n",
      "\n",
      "    accuracy                           0.78       616\n",
      "   macro avg       0.77      0.78      0.77       616\n",
      "weighted avg       0.79      0.78      0.79       616\n",
      "\n"
     ]
    }
   ],
   "source": [
    "parameters = {'C': [.05, .12, .25, .5, 1, 2, 4]}\n",
    "\n",
    "svr = svm.LinearSVC(class_weight='balanced')\n",
    "grid = GridSearchCV(estimator=svr, param_grid=parameters, n_jobs=8, scoring=\"f1_macro\", cv=5)\n",
    "\n",
    "BOW_tr=build_bow_tr_2(tr_txt, V, dict_indices)\n",
    "BOW_val=build_bow_tr_2(val_txt, V, dict_indices)\n",
    "\n",
    "grid.fit(BOW_tr, tr_y) \n",
    "\n",
    "y_pred = grid.predict(BOW_val)\n",
    "\n",
    "p, r, f, _ = precision_recall_fscore_support(val_y, y_pred, average='macro', pos_label=None)\n",
    "\n",
    "print(confusion_matrix(val_y, y_pred))\n",
    "print(metrics.classification_report(val_y, y_pred))"
   ]
  },
  {
   "cell_type": "markdown",
   "metadata": {},
   "source": [
    "### 3) Norma de vector"
   ]
  },
  {
   "cell_type": "code",
   "execution_count": 39,
   "metadata": {},
   "outputs": [
    {
     "name": "stdout",
     "output_type": "stream",
     "text": [
      "[[321  76]\n",
      " [ 54 165]]\n",
      "              precision    recall  f1-score   support\n",
      "\n",
      "           0       0.86      0.81      0.83       397\n",
      "           1       0.68      0.75      0.72       219\n",
      "\n",
      "    accuracy                           0.79       616\n",
      "   macro avg       0.77      0.78      0.77       616\n",
      "weighted avg       0.80      0.79      0.79       616\n",
      "\n"
     ]
    }
   ],
   "source": [
    "parameters = {'C': [.05, .12, .25, .5, 1, 2, 4]}\n",
    "\n",
    "svr = svm.LinearSVC(class_weight='balanced')\n",
    "grid = GridSearchCV(estimator=svr, param_grid=parameters, n_jobs=8, scoring=\"f1_macro\", cv=5)\n",
    "\n",
    "BOW_tr=build_bow_tr_3(tr_txt, V, dict_indices)\n",
    "BOW_val=build_bow_tr_3(val_txt, V, dict_indices)\n",
    "\n",
    "grid.fit(BOW_tr, tr_y) \n",
    "\n",
    "y_pred = grid.predict(BOW_val)\n",
    "\n",
    "p, r, f, _ = precision_recall_fscore_support(val_y, y_pred, average='macro', pos_label=None)\n",
    "\n",
    "print(confusion_matrix(val_y, y_pred))\n",
    "print(metrics.classification_report(val_y, y_pred))"
   ]
  },
  {
   "cell_type": "markdown",
   "metadata": {},
   "source": [
    "### 4) TF-IDF"
   ]
  },
  {
   "cell_type": "code",
   "execution_count": 40,
   "metadata": {},
   "outputs": [
    {
     "name": "stdout",
     "output_type": "stream",
     "text": [
      "[[326  71]\n",
      " [ 69 150]]\n",
      "              precision    recall  f1-score   support\n",
      "\n",
      "           0       0.83      0.82      0.82       397\n",
      "           1       0.68      0.68      0.68       219\n",
      "\n",
      "    accuracy                           0.77       616\n",
      "   macro avg       0.75      0.75      0.75       616\n",
      "weighted avg       0.77      0.77      0.77       616\n",
      "\n"
     ]
    }
   ],
   "source": [
    "parameters = {'C': [.05, .12, .25, .5, 1, 2, 4]}\n",
    "\n",
    "svr = svm.LinearSVC(class_weight='balanced')\n",
    "grid = GridSearchCV(estimator=svr, param_grid=parameters, n_jobs=8, scoring=\"f1_macro\", cv=5)\n",
    "\n",
    "BOW_tr=build_bow_tr_4(tr_txt, V, dict_indices)\n",
    "BOW_val=build_bow_tr_4(val_txt, V, dict_indices)\n",
    "\n",
    "grid.fit(BOW_tr, tr_y) \n",
    "\n",
    "y_pred = grid.predict(BOW_val)\n",
    "\n",
    "p, r, f, _ = precision_recall_fscore_support(val_y, y_pred, average='macro', pos_label=None)\n",
    "\n",
    "print(confusion_matrix(val_y, y_pred))\n",
    "print(metrics.classification_report(val_y, y_pred))"
   ]
  },
  {
   "cell_type": "markdown",
   "metadata": {},
   "source": [
    "### 5) TF-IDF con norma del vector"
   ]
  },
  {
   "cell_type": "code",
   "execution_count": 41,
   "metadata": {},
   "outputs": [
    {
     "name": "stdout",
     "output_type": "stream",
     "text": [
      "[[316  81]\n",
      " [ 53 166]]\n",
      "              precision    recall  f1-score   support\n",
      "\n",
      "           0       0.86      0.80      0.83       397\n",
      "           1       0.67      0.76      0.71       219\n",
      "\n",
      "    accuracy                           0.78       616\n",
      "   macro avg       0.76      0.78      0.77       616\n",
      "weighted avg       0.79      0.78      0.79       616\n",
      "\n"
     ]
    }
   ],
   "source": [
    "parameters = {'C': [.05, .12, .25, .5, 1, 2, 4]}\n",
    "\n",
    "svr = svm.LinearSVC(class_weight='balanced')\n",
    "grid = GridSearchCV(estimator=svr, param_grid=parameters, n_jobs=8, scoring=\"f1_macro\", cv=5)\n",
    "\n",
    "BOW_tr=build_bow_tr_5(tr_txt, V, dict_indices)\n",
    "BOW_val=build_bow_tr_5(val_txt, V, dict_indices)\n",
    "\n",
    "grid.fit(BOW_tr, tr_y) \n",
    "\n",
    "y_pred = grid.predict(BOW_val)\n",
    "\n",
    "p, r, f, _ = precision_recall_fscore_support(val_y, y_pred, average='macro', pos_label=None)\n",
    "\n",
    "print(confusion_matrix(val_y, y_pred))\n",
    "print(metrics.classification_report(val_y, y_pred))"
   ]
  },
  {
   "cell_type": "markdown",
   "metadata": {},
   "source": [
    "### 6) Bolsa de palabras con top 10000 palabras más frecuentes"
   ]
  },
  {
   "cell_type": "code",
   "execution_count": 42,
   "metadata": {},
   "outputs": [
    {
     "name": "stdout",
     "output_type": "stream",
     "text": [
      "[[339  58]\n",
      " [ 56 163]]\n",
      "              precision    recall  f1-score   support\n",
      "\n",
      "           0       0.86      0.85      0.86       397\n",
      "           1       0.74      0.74      0.74       219\n",
      "\n",
      "    accuracy                           0.81       616\n",
      "   macro avg       0.80      0.80      0.80       616\n",
      "weighted avg       0.82      0.81      0.82       616\n",
      "\n"
     ]
    }
   ],
   "source": [
    "parameters = {'C': [.05, .12, .25, .5, 1, 2, 4]}\n",
    "\n",
    "svr = svm.LinearSVC(class_weight='balanced')\n",
    "grid = GridSearchCV(estimator=svr, param_grid=parameters, n_jobs=8, scoring=\"f1_macro\", cv=5)\n",
    "\n",
    "V = sortFreqDict(fdist)\n",
    "V = V[:10000]\n",
    "\n",
    "BOW_tr=build_bow_tr_6(tr_txt, V, dict_indices)\n",
    "BOW_val=build_bow_tr_6(val_txt, V, dict_indices)\n",
    "\n",
    "grid.fit(BOW_tr, tr_y) \n",
    "\n",
    "y_pred = grid.predict(BOW_val)\n",
    "\n",
    "p, r, f, _ = precision_recall_fscore_support(val_y, y_pred, average='macro', pos_label=None)\n",
    "\n",
    "print(confusion_matrix(val_y, y_pred))\n",
    "print(metrics.classification_report(val_y, y_pred))"
   ]
  },
  {
   "cell_type": "markdown",
   "metadata": {},
   "source": [
    "### 7) Bolsa de palabras descartando top 1000 y tomando las siguientes 5000"
   ]
  },
  {
   "cell_type": "code",
   "execution_count": 43,
   "metadata": {},
   "outputs": [
    {
     "name": "stdout",
     "output_type": "stream",
     "text": [
      "[[302  95]\n",
      " [120  99]]\n",
      "              precision    recall  f1-score   support\n",
      "\n",
      "           0       0.72      0.76      0.74       397\n",
      "           1       0.51      0.45      0.48       219\n",
      "\n",
      "    accuracy                           0.65       616\n",
      "   macro avg       0.61      0.61      0.61       616\n",
      "weighted avg       0.64      0.65      0.65       616\n",
      "\n"
     ]
    }
   ],
   "source": [
    "parameters = {'C': [.05, .12, .25, .5, 1, 2, 4]}\n",
    "\n",
    "svr = svm.LinearSVC(class_weight='balanced')\n",
    "grid = GridSearchCV(estimator=svr, param_grid=parameters, n_jobs=8, scoring=\"f1_macro\", cv=5)\n",
    "\n",
    "V = sortFreqDict(fdist)\n",
    "V = V[1000:6000]\n",
    "\n",
    "BOW_tr=build_bow_tr_7(tr_txt, V, dict_indices)\n",
    "BOW_val=build_bow_tr_7(val_txt, V, dict_indices)\n",
    "\n",
    "grid.fit(BOW_tr, tr_y) \n",
    "\n",
    "y_pred = grid.predict(BOW_val)\n",
    "\n",
    "p, r, f, _ = precision_recall_fscore_support(val_y, y_pred, average='macro', pos_label=None)\n",
    "\n",
    "print(confusion_matrix(val_y, y_pred))\n",
    "print(metrics.classification_report(val_y, y_pred))"
   ]
  }
 ],
 "metadata": {
  "kernelspec": {
   "display_name": "Python 3",
   "language": "python",
   "name": "python3"
  },
  "language_info": {
   "codemirror_mode": {
    "name": "ipython",
    "version": 3
   },
   "file_extension": ".py",
   "mimetype": "text/x-python",
   "name": "python",
   "nbconvert_exporter": "python",
   "pygments_lexer": "ipython3",
   "version": "3.7.3"
  }
 },
 "nbformat": 4,
 "nbformat_minor": 4
}

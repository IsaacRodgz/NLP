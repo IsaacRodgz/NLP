{
 "cells": [
  {
   "cell_type": "markdown",
   "metadata": {},
   "source": [
    "## Tarea 3\n",
    "## Isaac Rodríguez Bribiesca"
   ]
  },
  {
   "cell_type": "markdown",
   "metadata": {},
   "source": [
    "Bibliotecas usadas"
   ]
  },
  {
   "cell_type": "code",
   "execution_count": 85,
   "metadata": {},
   "outputs": [],
   "source": [
    "from sklearn.feature_extraction.text import CountVectorizer\n",
    "from nltk.tokenize import TweetTokenizer\n",
    "from nltk.corpus import stopwords\n",
    "from nltk import FreqDist\n",
    "from nltk import bigrams\n",
    "from nltk import ngrams\n",
    "import preprocessor as p\n",
    "import numpy as np"
   ]
  },
  {
   "cell_type": "markdown",
   "metadata": {},
   "source": [
    "Se lee archivo de entrenamiento de tweets, así como las etiquetas"
   ]
  },
  {
   "cell_type": "code",
   "execution_count": 4,
   "metadata": {},
   "outputs": [],
   "source": [
    "with open('mex_train.txt', 'r') as f:\n",
    "    corpus = f.readlines()"
   ]
  },
  {
   "cell_type": "code",
   "execution_count": 5,
   "metadata": {},
   "outputs": [],
   "source": [
    "with open('mex_train_labels.txt', 'r') as f:\n",
    "    labels = f.readlines()\n",
    "\n",
    "labels = [int(lab.strip('\\n')) for lab in labels]"
   ]
  },
  {
   "cell_type": "markdown",
   "metadata": {},
   "source": [
    "Se separan tweets agresivos y no agresivos"
   ]
  },
  {
   "cell_type": "code",
   "execution_count": 6,
   "metadata": {},
   "outputs": [],
   "source": [
    "tweets_agg = [tw for tw, lab in zip(corpus, labels) if lab == 1]"
   ]
  },
  {
   "cell_type": "code",
   "execution_count": 7,
   "metadata": {},
   "outputs": [],
   "source": [
    "tweets_noagg = [tw for tw, lab in zip(corpus, labels) if lab == 0]"
   ]
  },
  {
   "cell_type": "markdown",
   "metadata": {},
   "source": [
    "Funciones para preprocesar los tweets"
   ]
  },
  {
   "cell_type": "code",
   "execution_count": 8,
   "metadata": {},
   "outputs": [],
   "source": [
    "def process_word(w, punct):\n",
    "    is_punct = True if w in punct else False\n",
    "    is_digit = w.isnumeric()\n",
    "    is_stopword = w in stopwords.words('spanish')\n",
    "\n",
    "    return \"\" if is_punct or is_digit or is_stopword else w.lower()\n",
    "\n",
    "def process_sentence(sent, punct):\n",
    "    s = []\n",
    "    for w in sent:\n",
    "\n",
    "        is_punct = True if w in punct else False\n",
    "        is_digit = w.isnumeric()\n",
    "        is_stopword = w in stopwords.words('spanish')\n",
    "\n",
    "        if not(is_punct or is_digit or is_stopword):\n",
    "            s.append(w.lower())\n",
    "\n",
    "    return \" \".join(s)"
   ]
  },
  {
   "cell_type": "markdown",
   "metadata": {},
   "source": [
    "Simbolos a filtrar"
   ]
  },
  {
   "cell_type": "code",
   "execution_count": 9,
   "metadata": {},
   "outputs": [],
   "source": [
    "punct = set(['.', ',', ';', ':', '-', '!', '¡', '¿', '?', '\"', '\\'', '...', '<url>', '*', '@usuario'])"
   ]
  },
  {
   "cell_type": "markdown",
   "metadata": {},
   "source": [
    "Función para convertir una lista de tokens a ngramas de tamaño n"
   ]
  },
  {
   "cell_type": "code",
   "execution_count": 29,
   "metadata": {},
   "outputs": [],
   "source": [
    "def words_to_ngrams(words, n, sep=\" \"):\n",
    "    if n > 1:\n",
    "        return [tuple(words[i:i+n]) for i in range(len(words)-n+1)]\n",
    "    else:\n",
    "        return words"
   ]
  },
  {
   "cell_type": "markdown",
   "metadata": {},
   "source": [
    "Función para calcular tabla de frecuencias de ngramas con ayuda de TweetTokenizer y FreqDist"
   ]
  },
  {
   "cell_type": "code",
   "execution_count": 30,
   "metadata": {},
   "outputs": [],
   "source": [
    "def build_ngrams(tweets, punct, n):\n",
    "    tk = TweetTokenizer()\n",
    "    tokens = [process_word(w, punct) for sent in tweets for w in tk.tokenize(sent)]\n",
    "    tokens = list(filter(None, tokens))\n",
    "    tw_trigrams = words_to_ngrams(tokens, n)\n",
    "    tw_trigrams = FreqDist(tw_trigrams)\n",
    "    \n",
    "    return tw_trigrams"
   ]
  },
  {
   "cell_type": "markdown",
   "metadata": {},
   "source": [
    "### Ejercicio 1. Conteos de unigramas sin suavizado"
   ]
  },
  {
   "cell_type": "markdown",
   "metadata": {},
   "source": [
    "Funcion que genera unigramas"
   ]
  },
  {
   "cell_type": "code",
   "execution_count": 31,
   "metadata": {},
   "outputs": [],
   "source": [
    "def build_unigram(tweets, punct):\n",
    "    return build_ngrams(tweets, punct, 1)"
   ]
  },
  {
   "cell_type": "markdown",
   "metadata": {},
   "source": [
    "### Ejercicio 1. Conteos de bigramas sin suavizado"
   ]
  },
  {
   "cell_type": "markdown",
   "metadata": {},
   "source": [
    "Funcion que genera bigramas"
   ]
  },
  {
   "cell_type": "code",
   "execution_count": 13,
   "metadata": {},
   "outputs": [],
   "source": [
    "def build_bigram(tweets, punct):\n",
    "    return build_ngrams(tweets, punct, 2)"
   ]
  },
  {
   "cell_type": "markdown",
   "metadata": {},
   "source": [
    "### Ejercicio 2. Comparación unigramas y bigramas para clases tweets agresivos y no agresivos"
   ]
  },
  {
   "cell_type": "markdown",
   "metadata": {},
   "source": [
    "#### Unigramas y bigramas más comunes en tweets no agresivos"
   ]
  },
  {
   "cell_type": "markdown",
   "metadata": {},
   "source": [
    "Unigramas tweeets no agresivos"
   ]
  },
  {
   "cell_type": "code",
   "execution_count": 32,
   "metadata": {},
   "outputs": [],
   "source": [
    "tw_unigrams = build_unigram(tweets_noagg, punct)"
   ]
  },
  {
   "cell_type": "code",
   "execution_count": 33,
   "metadata": {},
   "outputs": [
    {
     "data": {
      "text/plain": [
       "[('verga', 864),\n",
       " ('madre', 675),\n",
       " ('putas', 547),\n",
       " ('loca', 542),\n",
       " ('si', 421),\n",
       " ('putos', 359),\n",
       " ('😂', 259),\n",
       " ('bien', 155),\n",
       " ('…', 155),\n",
       " ('vale', 127)]"
      ]
     },
     "execution_count": 33,
     "metadata": {},
     "output_type": "execute_result"
    }
   ],
   "source": [
    "tw_unigrams.most_common(10)"
   ]
  },
  {
   "cell_type": "markdown",
   "metadata": {},
   "source": [
    "Bigramas tweeets no agresivos"
   ]
  },
  {
   "cell_type": "code",
   "execution_count": 158,
   "metadata": {},
   "outputs": [],
   "source": [
    "tw_bigrams = build_bigram(tweets_noagg, punct)"
   ]
  },
  {
   "cell_type": "code",
   "execution_count": 160,
   "metadata": {},
   "outputs": [
    {
     "data": {
      "text/plain": [
       "[(('😂', '😂'), 106),\n",
       " (('vale', 'verga'), 77),\n",
       " (('puta', 'madre'), 70),\n",
       " (('❤', '️'), 38),\n",
       " (('🏻', '\\u200d'), 31),\n",
       " (('valer', 'verga'), 30),\n",
       " (('vale', 'madre'), 30),\n",
       " (('mamá', 'luchona'), 29),\n",
       " (('😭', '😭'), 29),\n",
       " (('😡', '😡'), 25)]"
      ]
     },
     "execution_count": 160,
     "metadata": {},
     "output_type": "execute_result"
    }
   ],
   "source": [
    "tw_bigrams.most_common(10)"
   ]
  },
  {
   "cell_type": "markdown",
   "metadata": {},
   "source": [
    "#### Unigramas y bigramas más comunes en tweets agresivos"
   ]
  },
  {
   "cell_type": "markdown",
   "metadata": {},
   "source": [
    "Unigramas tweeets no agresivos"
   ]
  },
  {
   "cell_type": "code",
   "execution_count": 161,
   "metadata": {},
   "outputs": [],
   "source": [
    "tw_unigrams = build_unigram(tweets_agg, punct)"
   ]
  },
  {
   "cell_type": "code",
   "execution_count": 162,
   "metadata": {},
   "outputs": [
    {
     "data": {
      "text/plain": [
       "[(('putos',), 472),\n",
       " (('madre',), 404),\n",
       " (('putas',), 348),\n",
       " (('verga',), 284),\n",
       " (('si',), 242),\n",
       " (('hdp',), 215),\n",
       " (('puta',), 171),\n",
       " (('pinche',), 171),\n",
       " (('😂',), 118),\n",
       " (('puto',), 114)]"
      ]
     },
     "execution_count": 162,
     "metadata": {},
     "output_type": "execute_result"
    }
   ],
   "source": [
    "tw_unigrams.most_common(10)"
   ]
  },
  {
   "cell_type": "markdown",
   "metadata": {},
   "source": [
    "Bigramas tweeets no agresivos"
   ]
  },
  {
   "cell_type": "code",
   "execution_count": 163,
   "metadata": {},
   "outputs": [],
   "source": [
    "tw_bigrams = build_bigram(tweets_agg, punct)"
   ]
  },
  {
   "cell_type": "code",
   "execution_count": 164,
   "metadata": {},
   "outputs": [
    {
     "data": {
      "text/plain": [
       "[(('puta', 'madre'), 90),\n",
       " (('😂', '😂'), 59),\n",
       " (('chingar', 'madre'), 32),\n",
       " (('mil', 'putas'), 32),\n",
       " (('chinguen', 'madre'), 32),\n",
       " (('hijo', 'puta'), 28),\n",
       " (('hijos', 'puta'), 27),\n",
       " (('chinga', 'madre'), 27),\n",
       " (('chingas', 'madre'), 27),\n",
       " (('putas', 'madres'), 25)]"
      ]
     },
     "execution_count": 164,
     "metadata": {},
     "output_type": "execute_result"
    }
   ],
   "source": [
    "tw_bigrams.most_common(10)"
   ]
  },
  {
   "cell_type": "markdown",
   "metadata": {},
   "source": [
    "Para el caso de los unigramas no se observa mucha diferencia en el tipo de palabras más frecuentes entre tweets agresivos y no agresivos, variando sólamente las frecuencias en que aparecen las palabras. En el caso de bigramas se hace más notoria la diferencia entre tweets agresivos y no agresivos, ya que en los tweets agresivos aparecen más groserías como \"hijo puta\" o \"chingas madre\", que en los bigramas de tweeets no agresivos no son tan frecuentes."
   ]
  },
  {
   "cell_type": "markdown",
   "metadata": {},
   "source": [
    "### Ejercicio 3. Bigramas y Trigramas con Add-one Smoothing"
   ]
  },
  {
   "cell_type": "markdown",
   "metadata": {},
   "source": [
    "Se obtienen unigramas y bigramas para construir las tablas"
   ]
  },
  {
   "cell_type": "code",
   "execution_count": 14,
   "metadata": {},
   "outputs": [],
   "source": [
    "tw_unigrams = build_unigram(corpus, punct)\n",
    "tw_bigrams = build_bigram(corpus, punct)"
   ]
  },
  {
   "cell_type": "markdown",
   "metadata": {},
   "source": [
    "Tabla de bigramas"
   ]
  },
  {
   "cell_type": "code",
   "execution_count": 15,
   "metadata": {},
   "outputs": [],
   "source": [
    "bigram_table = {}\n",
    "\n",
    "bigram_list = list(tw_bigrams.keys())\n",
    "vocab_size = len(list(tw_unigrams))\n",
    "\n",
    "for v in bigram_list:\n",
    "    if v[0] not in bigram_table:\n",
    "        bigram_table[v[0]] = {}\n",
    "    bigram_table[v[0]][v[1]] = (tw_bigrams[(v[0], v[1])] + 1)/(tw_unigrams[v[0]] + vocab_size)\n",
    "\n",
    "for v in bigram_list:\n",
    "    if v[1] not in bigram_table:\n",
    "        bigram_table[v[1]] = {}\n",
    "    bigram_table[v[1]][v[0]] = 1/(tw_unigrams[v[1]] + vocab_size)"
   ]
  },
  {
   "cell_type": "code",
   "execution_count": null,
   "metadata": {},
   "outputs": [],
   "source": [
    "bigram_table = {}\n",
    "\n",
    "bigram_list = list(tw_bigrams.keys())\n",
    "vocab_size = len(list(tw_unigrams))\n",
    "\n",
    "unigram_vocab = list(tw_unigrams.keys())\n",
    "    \n",
    "for v1 in unigram_vocab:\n",
    "    for v2 in unigram_vocab:\n",
    "        \n",
    "        if (v1, v2) in tw_bigrams:\n",
    "            if v1 not in bigram_table:\n",
    "                bigram_table[v1] = {}\n",
    "            bigram_table[v1][v2] = (tw_bigrams[(v1, v2)] + 1)/(tw_unigrams[v1] + vocab_size)\n",
    "            \n",
    "        else:\n",
    "            if v1 not in bigram_table:\n",
    "                bigram_table[v1] = {}\n",
    "            bigram_table[v1][v2] = 1/(tw_unigrams[v1] + vocab_size)"
   ]
  },
  {
   "cell_type": "markdown",
   "metadata": {},
   "source": [
    "Obteniendo trigramas"
   ]
  },
  {
   "cell_type": "code",
   "execution_count": 17,
   "metadata": {},
   "outputs": [],
   "source": [
    "tw_trigrams = build_ngrams(corpus, punct, 3)"
   ]
  },
  {
   "cell_type": "markdown",
   "metadata": {},
   "source": [
    "Tabla de trigramas"
   ]
  },
  {
   "cell_type": "code",
   "execution_count": 18,
   "metadata": {},
   "outputs": [],
   "source": [
    "trigram_table = {}\n",
    "\n",
    "trigram_list = list(tw_trigrams.keys())\n",
    "vocab_size = len(list(tw_bigrams))\n",
    "\n",
    "for v in trigram_list:\n",
    "    if v[0] not in trigram_table:\n",
    "        trigram_table[v[0]] = {}\n",
    "\n",
    "    if v[1] not in trigram_table[v[0]]:\n",
    "        trigram_table[v[0]][v[1]] = {}\n",
    "    \n",
    "    trigram_table[v[0]][v[1]][v[2]] = (tw_trigrams[(v[0], v[1], v[2])] + 1)/(tw_bigrams[(v[0], v[1])] + vocab_size)"
   ]
  },
  {
   "cell_type": "markdown",
   "metadata": {},
   "source": [
    "### Ejercicio 4. Bigramas y Trigramas con Good-Turing Disccount"
   ]
  },
  {
   "cell_type": "markdown",
   "metadata": {},
   "source": [
    "Para los valores de $N_{c+1}$ que no existan, se ajustará un modelo de ley de potencia: $N_{c+1} = a*(c+1)^{b}$ con $b < -1$"
   ]
  },
  {
   "cell_type": "code",
   "execution_count": 87,
   "metadata": {},
   "outputs": [],
   "source": [
    "def power_law(coeffs, x):\n",
    "    return np.exp(coeffs[1])*(x**(coeffs[0]))"
   ]
  },
  {
   "cell_type": "markdown",
   "metadata": {},
   "source": [
    "Tabla de bigramas"
   ]
  },
  {
   "cell_type": "code",
   "execution_count": 92,
   "metadata": {},
   "outputs": [],
   "source": [
    "bigram_table = {}\n",
    "\n",
    "bigram_list = list(tw_bigrams.keys())\n",
    "N = len(bigram_list)\n",
    "\n",
    "# Calcula conteo N_c\n",
    "limit = 20  # A paritr de este valor se usa el modelo de ley de potencia\n",
    "Nk = {}\n",
    "for f in set(tw_bigrams.values()):\n",
    "    if f >= 20:\n",
    "        break\n",
    "    Nk[f] = len([w for w in tw_bigrams.keys() if tw_bigrams[w] == f])\n",
    "\n",
    "# Ajusta modelo de ley de potencia\n",
    "Nk_log = []\n",
    "k = []\n",
    "for f in set(tw_bigrams.values()):\n",
    "    Nk_log.append(np.log(len([w for w in tw_bigrams.keys() if tw_bigrams[w] == f])))\n",
    "    k.append(np.log(f))\n",
    "    \n",
    "Nk_log = np.array(Nk_log)\n",
    "k = np.array(k)\n",
    "z = np.polyfit(k, Nk_log, 1)\n",
    "\n",
    "# Calcula tabla de bigramas\n",
    "for v in bigram_list:\n",
    "    \n",
    "    if v[0] not in bigram_table:\n",
    "        bigram_table[v[0]] = {}\n",
    "        \n",
    "    if tw_bigrams[(v[0], v[1])] > limit or (tw_bigrams[(v[0], v[1])]+1) not in Nk:\n",
    "        c = power_law(z, tw_bigrams[(v[0], v[1])]+1)\n",
    "    else:\n",
    "        c = (tw_bigrams[(v[0], v[1])] + 1)*(Nk[tw_bigrams[(v[0], v[1])]+1]/Nk[tw_bigrams[(v[0], v[1])]])\n",
    "\n",
    "    bigram_table[v[0]][v[1]] = c/N"
   ]
  },
  {
   "cell_type": "markdown",
   "metadata": {},
   "source": [
    "Tabla de trigramas"
   ]
  },
  {
   "cell_type": "code",
   "execution_count": 93,
   "metadata": {},
   "outputs": [],
   "source": [
    "trigram_table = {}\n",
    "\n",
    "trigram_list = list(tw_trigrams.keys())\n",
    "N = len(trigram_list)\n",
    "\n",
    "# Calcula conteo N_c\n",
    "limit = 20  # A paritr de este valor se usa el modelo de ley de potencia\n",
    "Nk = {}\n",
    "for f in set(tw_trigrams.values()):\n",
    "    if f >= 20:\n",
    "        break\n",
    "    Nk[f] = len([w for w in tw_trigrams.keys() if tw_trigrams[w] == f])\n",
    "\n",
    "# Ajusta modelo de ley de potencia\n",
    "Nk_log = []\n",
    "k = []\n",
    "for f in set(tw_trigrams.values()):\n",
    "    Nk_log.append(np.log(len([w for w in tw_trigrams.keys() if tw_trigrams[w] == f])))\n",
    "    k.append(np.log(f))\n",
    "    \n",
    "Nk_log = np.array(Nk_log)\n",
    "k = np.array(k)\n",
    "z = np.polyfit(k, Nk_log, 1)\n",
    "\n",
    "# Calcula tabla de bigramas\n",
    "for v in trigram_list:\n",
    "    if v[0] not in trigram_table:\n",
    "        trigram_table[v[0]] = {}\n",
    "\n",
    "    if v[1] not in trigram_table[v[0]]:\n",
    "        trigram_table[v[0]][v[1]] = {}\n",
    "        \n",
    "    if tw_trigrams[(v[0], v[1], v[2])] > limit or (tw_trigrams[(v[0], v[1], v[2])]+1) not in Nk:\n",
    "        c = power_law(z, tw_trigrams[(v[0], v[1], v[2])]+1)\n",
    "    else:\n",
    "        c = (tw_trigrams[(v[0], v[1], v[2])] + 1)*(Nk[tw_trigrams[(v[0], v[1], v[2])]+1]/Nk[tw_trigrams[(v[0], v[1], v[2])]])\n",
    "\n",
    "    bigram_table[v[0]][v[1], v[2]] = c/N"
   ]
  },
  {
   "cell_type": "markdown",
   "metadata": {},
   "source": [
    "### Ejercicio 5. Modelo lenguaje con Add-one Smoothing en tweets agresivos"
   ]
  },
  {
   "cell_type": "code",
   "execution_count": null,
   "metadata": {},
   "outputs": [],
   "source": []
  }
 ],
 "metadata": {
  "kernelspec": {
   "display_name": "Python 3",
   "language": "python",
   "name": "python3"
  },
  "language_info": {
   "codemirror_mode": {
    "name": "ipython",
    "version": 3
   },
   "file_extension": ".py",
   "mimetype": "text/x-python",
   "name": "python",
   "nbconvert_exporter": "python",
   "pygments_lexer": "ipython3",
   "version": "3.7.4"
  }
 },
 "nbformat": 4,
 "nbformat_minor": 2
}

{
 "cells": [
  {
   "cell_type": "code",
   "execution_count": 486,
   "metadata": {},
   "outputs": [],
   "source": [
    "import numpy as np\n",
    "import scipy as sp\n",
    "from sklearn.metrics import accuracy_score, confusion_matrix, f1_score, precision_recall_fscore_support, roc_auc_score\n",
    "from sklearn import metrics, preprocessing\n",
    "from sklearn.model_selection import GridSearchCV\n",
    "from sklearn.model_selection import validation_curve\n",
    "from sklearn.feature_selection import mutual_info_classif\n",
    "from sklearn.feature_selection import chi2\n",
    "from sklearn.feature_selection import f_classif\n",
    "from sklearn.feature_selection import SelectFromModel\n",
    "\n",
    "from sklearn.feature_selection import SelectKBest\n",
    "from sklearn.feature_extraction.text import TfidfVectorizer, CountVectorizer\n",
    "from sklearn import preprocessing\n",
    "from scipy import sparse\n",
    "from sklearn.svm import SVC\n",
    "from sklearn import svm\n",
    "\n",
    "from sklearn.ensemble import RandomForestClassifier\n",
    "from sklearn.naive_bayes import GaussianNB\n",
    "from sklearn.neural_network import MLPClassifier\n",
    "\n",
    "from nltk.tokenize import TweetTokenizer\n",
    "from nltk.corpus import stopwords\n",
    "from nltk import FreqDist\n",
    "import pandas as pd\n",
    "import nltk\n",
    "import math\n",
    "import matplotlib.pyplot as plt"
   ]
  },
  {
   "cell_type": "code",
   "execution_count": 2,
   "metadata": {},
   "outputs": [],
   "source": [
    "def read_data():\n",
    "\n",
    "    # Training set\n",
    "    with open('mex20_train.txt', 'r') as f:\n",
    "        corpus_train = f.readlines()\n",
    "    with open('mex20_train_labels.txt', 'r') as f:\n",
    "        labels_train = f.readlines()\n",
    "    labels_train = [int(lab.strip('\\n')) for lab in labels_train]\n",
    "    tweets_train = [tw.strip('\\n') for tw in corpus_train]\n",
    "\n",
    "    # Validation set\n",
    "    with open('mex20_val.txt', 'r') as f:\n",
    "        corpus_val = f.readlines()\n",
    "    with open('mex20_val_labels.txt', 'r') as f:\n",
    "        labels_val = f.readlines()\n",
    "    labels_val = [int(lab.strip('\\n')) for lab in labels_val]\n",
    "    tweets_val = [tw.strip('\\n') for tw in corpus_val]\n",
    "\n",
    "    # Test set\n",
    "    with open('mex20_test_full.txt', 'r') as f:\n",
    "        corpus_test = f.readlines()\n",
    "    tweets_test = [tw.strip('\\n') for tw in corpus_test]\n",
    "\n",
    "    return tweets_train, labels_train, tweets_val, labels_val, tweets_test"
   ]
  },
  {
   "cell_type": "code",
   "execution_count": 478,
   "metadata": {},
   "outputs": [
    {
     "name": "stdout",
     "output_type": "stream",
     "text": [
      "5278 for training\n",
      "587 for validation\n",
      "1467 for test\n"
     ]
    }
   ],
   "source": [
    "X_train_, y_train, X_val_, y_val, X_test_ = read_data()\n",
    "print(\"{0} for training\\n{1} for validation\\n{2} for test\".format(len(X_train_), len(X_val_), len(X_test_)))"
   ]
  },
  {
   "cell_type": "markdown",
   "metadata": {},
   "source": [
    "## BOW Representations"
   ]
  },
  {
   "cell_type": "code",
   "execution_count": 131,
   "metadata": {},
   "outputs": [],
   "source": [
    "from nltk.stem import WordNetLemmatizer \n",
    "\n",
    "class LemmaTokenizer:\n",
    "    def __init__(self):\n",
    "        #self.wnl = WordNetLemmatizer()\n",
    "        self.tt = TweetTokenizer()\n",
    "        self.punct = set(['.', ',', ';', ':', '-', '!', '¡', '¿', '?', '\"', '\\'',\n",
    "             '...', '…', '️', '(', ')', '<url>', '*', '@usuario',\n",
    "            '“', '”', '..', '/'])\n",
    "\n",
    "    def process_word(self, word):\n",
    "        w = word.lower()\n",
    "        w = w.strip('#')\n",
    "        is_punct = True if w in self.punct or '@' in w else False\n",
    "        is_digit = w.isnumeric()\n",
    "        is_stopword = w in stopwords.words('spanish')\n",
    "\n",
    "        return \"\" if is_punct or is_digit else w\n",
    "\n",
    "    def __call__(self, doc):\n",
    "        return list(filter(None, [self.process_word(t) for t in self.tt.tokenize(doc)]))"
   ]
  },
  {
   "cell_type": "markdown",
   "metadata": {},
   "source": [
    "#### BOW"
   ]
  },
  {
   "cell_type": "code",
   "execution_count": 479,
   "metadata": {},
   "outputs": [],
   "source": [
    "vectorizer = CountVectorizer(analyzer = 'word', ngram_range = (1,3), min_df = 2, max_df = 1000)\n",
    "#tokenizer = LemmaTokenizer()\n",
    "X_train = vectorizer.fit_transform(X_train_)\n",
    "X_val = vectorizer.transform(X_val_)\n",
    "X_test = vectorizer.transform(X_test_)"
   ]
  },
  {
   "cell_type": "code",
   "execution_count": null,
   "metadata": {},
   "outputs": [],
   "source": [
    "vectorizer.build_analyzer()(\"Anden putos, recuerdan el #noerapenal #Holanda fuera de #Rusia2018, esto se llama #karma ehhhhhhhh #puuuuuutos Soy mamá soltera luchona &amp; patriota! Jajaja ♥️🇲🇽🎉😍☺️ #LosAmoInfinito <URL> @USUARIO?? :v\")"
   ]
  },
  {
   "cell_type": "code",
   "execution_count": 469,
   "metadata": {},
   "outputs": [],
   "source": [
    "vectorizer = CountVectorizer(analyzer = 'char', ngram_range = (3,6), min_df = 3, max_df = 1000)\n",
    "X_train2 = vectorizer.fit_transform(X_train_)\n",
    "X_val2 = vectorizer.transform(X_val_)\n",
    "X_test2 = vectorizer.transform(X_test_)"
   ]
  },
  {
   "cell_type": "code",
   "execution_count": 402,
   "metadata": {},
   "outputs": [],
   "source": [
    "X_train2 = preprocessing.normalize(X_train2, norm='l2')\n",
    "X_val2 = preprocessing.normalize(X_val2, norm='l2')\n",
    "X_test2 = preprocessing.normalize(X_test2, norm='l2')"
   ]
  },
  {
   "cell_type": "code",
   "execution_count": 449,
   "metadata": {},
   "outputs": [
    {
     "data": {
      "text/plain": [
       "(5278, 5000)"
      ]
     },
     "execution_count": 449,
     "metadata": {},
     "output_type": "execute_result"
    }
   ],
   "source": [
    "X_train.shape"
   ]
  },
  {
   "cell_type": "code",
   "execution_count": 355,
   "metadata": {},
   "outputs": [
    {
     "data": {
      "text/plain": [
       "(5278, 74799)"
      ]
     },
     "execution_count": 355,
     "metadata": {},
     "output_type": "execute_result"
    }
   ],
   "source": [
    "X_train2.shape"
   ]
  },
  {
   "cell_type": "markdown",
   "metadata": {},
   "source": [
    "#### Feature Selection"
   ]
  },
  {
   "cell_type": "code",
   "execution_count": 429,
   "metadata": {},
   "outputs": [],
   "source": [
    "lsvc = svm.LinearSVC(C=0.05, penalty=\"l1\", dual=False).fit(X_train, y_train)\n",
    "model = SelectFromModel(lsvc, prefit=True)\n",
    "X_train = model.transform(X_train)\n",
    "X_val = model.transform(X_val)\n",
    "X_test = model.transform(X_test)"
   ]
  },
  {
   "cell_type": "code",
   "execution_count": 480,
   "metadata": {},
   "outputs": [],
   "source": [
    "select = SelectKBest(chi2, k=5000)\n",
    "select.fit(X_train, y_train)\n",
    "X_train = select.transform(X_train)\n",
    "X_val = select.transform(X_val)\n",
    "X_test = select.transform(X_test)"
   ]
  },
  {
   "cell_type": "code",
   "execution_count": 471,
   "metadata": {},
   "outputs": [],
   "source": [
    "select = SelectKBest(chi2, k=4500)\n",
    "select.fit(X_train2, y_train)\n",
    "X_train2 = select.transform(X_train2)\n",
    "X_val2 = select.transform(X_val2)\n",
    "X_test2 = select.transform(X_test2)"
   ]
  },
  {
   "cell_type": "markdown",
   "metadata": {},
   "source": [
    "#### Stacking"
   ]
  },
  {
   "cell_type": "code",
   "execution_count": 120,
   "metadata": {},
   "outputs": [],
   "source": [
    "X_train = sparse.vstack([X_train, X_val])\n",
    "y_train = y_train+y_val"
   ]
  },
  {
   "cell_type": "code",
   "execution_count": 365,
   "metadata": {},
   "outputs": [],
   "source": [
    "X_train = sparse.vstack([X_train_concat, X_val_concat])\n",
    "y_train = y_train+y_val"
   ]
  },
  {
   "cell_type": "code",
   "execution_count": 472,
   "metadata": {},
   "outputs": [],
   "source": [
    "X_train_concat = sp.sparse.hstack([X_train, X_train2])\n",
    "X_val_concat = sp.sparse.hstack([X_val, X_val2])\n",
    "X_test_concat = sp.sparse.hstack([X_test, X_test2])"
   ]
  },
  {
   "cell_type": "markdown",
   "metadata": {},
   "source": [
    "#### Recurso de emociones CANADA"
   ]
  },
  {
   "cell_type": "code",
   "execution_count": 209,
   "metadata": {},
   "outputs": [],
   "source": [
    "def emo_vect_tfidf_norm(tweets, emotions_dict):\n",
    "    \n",
    "    words_emo = []\n",
    "\n",
    "    for tweet in tweets:\n",
    "\n",
    "        tweet_vect = np.zeros(len(emotions_dict.iloc[0]))\n",
    "\n",
    "        # Transforma cada tweet a su vector de emociones\n",
    "        for word in tweet.split():\n",
    "\n",
    "            # Se verifica si la palabra está incluida en el diccionario de emociones\n",
    "            try:\n",
    "                if len(emotions_dict.loc[word]) == 1:\n",
    "                    w_vect = np.array(emotions_dict.loc[word])\n",
    "                else:\n",
    "                    w_vect = np.array(emotions_dict.loc[word].sum(axis = 0, skipna = True))\n",
    "                tweet_vect += np.array(w_vect)\n",
    "            except:\n",
    "                pass\n",
    "            \n",
    "        words_emo.append(tweet_vect)\n",
    "\n",
    "    words_emo = np.array(words_emo)\n",
    "        \n",
    "    for i in range(words_emo.shape[0]):\n",
    "        emotions_index = np.nonzero(words_emo[i])[0]\n",
    "        for j in emotions_index:\n",
    "            num_tweets = len(np.nonzero(words_emo[:, j])[0])\n",
    "            words_emo[i][j] = words_emo[i][j]*np.log10((words_emo.shape[0]/num_tweets) + 1)\n",
    "            \n",
    "    for i in range(words_emo.shape[0]):\n",
    "        norm = np.linalg.norm(words_emo[i])\n",
    "\n",
    "        if norm == 0:\n",
    "            norm = 1\n",
    "\n",
    "        words_emo[i] = words_emo[i]/norm\n",
    "\n",
    "    return words_emo"
   ]
  },
  {
   "cell_type": "code",
   "execution_count": 414,
   "metadata": {},
   "outputs": [],
   "source": [
    "emotions_dict = pd.read_csv(\"emolex.csv\")\n",
    "emotions_dict = emotions_dict.set_index('Spanish (es)')\n",
    "\n",
    "BOW_train_emo=emo_vect_tfidf_norm(X_train_, emotions_dict)\n",
    "BOW_val_emo=emo_vect_tfidf_norm(X_val_, emotions_dict)\n",
    "BOW_test_emo=emo_vect_tfidf_norm(X_test_, emotions_dict)"
   ]
  },
  {
   "cell_type": "code",
   "execution_count": 307,
   "metadata": {},
   "outputs": [],
   "source": [
    "X_train_concat = sp.sparse.hstack([X_train, BOW_train_emo])\n",
    "X_val_concat = sp.sparse.hstack([X_val, BOW_val_emo])\n",
    "X_test_concat = sp.sparse.hstack([X_test, BOW_test_emo])"
   ]
  },
  {
   "cell_type": "code",
   "execution_count": 415,
   "metadata": {},
   "outputs": [],
   "source": [
    "X_train_concat = sp.sparse.hstack([X_train, X_train2, BOW_train_emo])\n",
    "X_val_concat = sp.sparse.hstack([X_val, X_val2, BOW_val_emo])\n",
    "X_test_concat = sp.sparse.hstack([X_test, X_test2, BOW_test_emo])"
   ]
  },
  {
   "cell_type": "markdown",
   "metadata": {},
   "source": [
    "#### Recurso emociones SEL"
   ]
  },
  {
   "cell_type": "code",
   "execution_count": 280,
   "metadata": {},
   "outputs": [],
   "source": [
    "def emo_vect_sel_tfidf_norm(tweets, emotions_dict):\n",
    "    \n",
    "    words_emo = []\n",
    "    emo_list = list(sel_emotions_dict.Categoría.unique())\n",
    "    num_cols = len(emo_list)\n",
    "\n",
    "    for tweet in tweets:\n",
    "\n",
    "        tweet_vect = np.zeros(len(emotions_dict.iloc[0]))\n",
    "\n",
    "        # Transforma cada tweet a su vector de emociones\n",
    "        for word in tweet.split():\n",
    "\n",
    "             # Se verifica si la palabra está incluida en el diccionario de emociones\n",
    "            try:\n",
    "                if len(emotions_dict.loc[word]) == 1:\n",
    "                    w_vect = np.array(sel_emotions_dict.loc[word][:-1], dtype=np.float)\n",
    "                else:\n",
    "                    w_vect = np.array(emotions_dict.loc[word][:-1].sum(axis = 0, skipna = True), dtype=np.float)\n",
    "\n",
    "                tweet_vect += w_vect\n",
    "            except:\n",
    "                pass\n",
    "            \n",
    "        words_emo.append(tweet_vect)\n",
    "\n",
    "    words_emo = np.array(words_emo)\n",
    "        \n",
    "    for i in range(words_emo.shape[0]):\n",
    "        emotions_index = np.nonzero(words_emo[i])[0]\n",
    "        for j in emotions_index:\n",
    "            num_tweets = len(np.nonzero(words_emo[:, j])[0])\n",
    "            words_emo[i][j] = words_emo[i][j]*np.log10((words_emo.shape[0]/num_tweets) + 1)\n",
    "            \n",
    "    for i in range(words_emo.shape[0]):\n",
    "        norm = np.linalg.norm(words_emo[i])\n",
    "\n",
    "        if norm == 0:\n",
    "            norm = 1\n",
    "\n",
    "        words_emo[i] = words_emo[i]/norm\n",
    "\n",
    "    return words_emo"
   ]
  },
  {
   "cell_type": "code",
   "execution_count": 287,
   "metadata": {},
   "outputs": [],
   "source": [
    "sel_emotions_dict = pd.read_csv(\"SEL_full.txt\", sep='\\t', encoding = \"ISO-8859-1\")\n",
    "sel_emotions_dict = sel_emotions_dict.set_index('Palabra')\n",
    "\n",
    "BOW_train_emo_sel=emo_vect_sel_tfidf_norm(X_train_, sel_emotions_dict)\n",
    "BOW_val_emo_sel=emo_vect_sel_tfidf_norm(X_val_, sel_emotions_dict)\n",
    "BOW_test_emo_sel=emo_vect_sel_tfidf_norm(X_test_, sel_emotions_dict)"
   ]
  },
  {
   "cell_type": "code",
   "execution_count": 288,
   "metadata": {},
   "outputs": [],
   "source": [
    "X_train_concat = sp.sparse.hstack([X_train, BOW_train_emo_sel])\n",
    "X_val_concat = sp.sparse.hstack([X_val, BOW_val_emo_sel])\n",
    "X_test_concat = sp.sparse.hstack([X_test, BOW_test_emo_sel])"
   ]
  },
  {
   "cell_type": "markdown",
   "metadata": {},
   "source": [
    "#### Entrenamiento"
   ]
  },
  {
   "cell_type": "markdown",
   "metadata": {},
   "source": [
    "#### Other model"
   ]
  },
  {
   "cell_type": "code",
   "execution_count": 487,
   "metadata": {},
   "outputs": [],
   "source": [
    "parameters = {'alpha': [0.0001, 0.0003, 0.0009, 0.001, 0.01]}\n",
    "svr = MLPClassifier(hidden_layer_sizes=(100,), activation='relu', solver='adam', learning_rate_init=0.001)\n",
    "grid = GridSearchCV(estimator=svr, param_grid=parameters, n_jobs=8, scoring=\"f1_macro\", cv=5, verbose=3)"
   ]
  },
  {
   "cell_type": "markdown",
   "metadata": {},
   "source": [
    "#### LinearSVM"
   ]
  },
  {
   "cell_type": "code",
   "execution_count": 473,
   "metadata": {},
   "outputs": [],
   "source": [
    "parameters = {'C': [.01, .05, 0.8, 0.1, .12, .15, .20, .25]}\n",
    "svr = svm.LinearSVC(class_weight='balanced')\n",
    "grid = GridSearchCV(estimator=svr, param_grid=parameters, n_jobs=8, scoring=\"f1_macro\", cv=5, verbose=3)"
   ]
  },
  {
   "cell_type": "markdown",
   "metadata": {},
   "source": [
    "#### RBF SVM"
   ]
  },
  {
   "cell_type": "code",
   "execution_count": 76,
   "metadata": {},
   "outputs": [],
   "source": [
    "parameters = {'C': [.05, .1, .25, 1., 2., 3.5, 4., 8., 10.], 'gamma': [0.01,  0.05, 0.1, 0.5, 1.]}\n",
    "svr = SVC()\n",
    "grid = GridSearchCV(estimator=svr, param_grid=parameters, n_jobs=8, scoring=\"f1_macro\", cv=5, verbose=3)"
   ]
  },
  {
   "cell_type": "markdown",
   "metadata": {},
   "source": [
    "#### Training"
   ]
  },
  {
   "cell_type": "code",
   "execution_count": 488,
   "metadata": {},
   "outputs": [
    {
     "name": "stdout",
     "output_type": "stream",
     "text": [
      "Fitting 5 folds for each of 5 candidates, totalling 25 fits\n"
     ]
    },
    {
     "name": "stderr",
     "output_type": "stream",
     "text": [
      "[Parallel(n_jobs=8)]: Using backend LokyBackend with 8 concurrent workers.\n",
      "[Parallel(n_jobs=8)]: Done  19 out of  25 | elapsed:  8.9min remaining:  2.8min\n",
      "[Parallel(n_jobs=8)]: Done  25 out of  25 | elapsed: 10.4min finished\n"
     ]
    },
    {
     "data": {
      "text/plain": [
       "GridSearchCV(cv=5, error_score='raise-deprecating',\n",
       "             estimator=MLPClassifier(activation='relu', alpha=0.0001,\n",
       "                                     batch_size='auto', beta_1=0.9,\n",
       "                                     beta_2=0.999, early_stopping=False,\n",
       "                                     epsilon=1e-08, hidden_layer_sizes=(100,),\n",
       "                                     learning_rate='constant',\n",
       "                                     learning_rate_init=0.001, max_iter=200,\n",
       "                                     momentum=0.9, n_iter_no_change=10,\n",
       "                                     nesterovs_momentum=True, power_t=0.5,\n",
       "                                     random_state=None, shuffle=True,\n",
       "                                     solver='adam', tol=0.0001,\n",
       "                                     validation_fraction=0.1, verbose=False,\n",
       "                                     warm_start=False),\n",
       "             iid='warn', n_jobs=8,\n",
       "             param_grid={'alpha': [0.0001, 0.0003, 0.0009, 0.001, 0.01]},\n",
       "             pre_dispatch='2*n_jobs', refit=True, return_train_score=False,\n",
       "             scoring='f1_macro', verbose=3)"
      ]
     },
     "execution_count": 488,
     "metadata": {},
     "output_type": "execute_result"
    }
   ],
   "source": [
    "grid.fit(X_train, y_train)"
   ]
  },
  {
   "cell_type": "code",
   "execution_count": 474,
   "metadata": {},
   "outputs": [
    {
     "name": "stdout",
     "output_type": "stream",
     "text": [
      "Fitting 5 folds for each of 8 candidates, totalling 40 fits\n"
     ]
    },
    {
     "name": "stderr",
     "output_type": "stream",
     "text": [
      "[Parallel(n_jobs=8)]: Using backend LokyBackend with 8 concurrent workers.\n",
      "[Parallel(n_jobs=8)]: Done  16 tasks      | elapsed:    3.1s\n",
      "[Parallel(n_jobs=8)]: Done  40 out of  40 | elapsed:    6.3s finished\n"
     ]
    },
    {
     "data": {
      "text/plain": [
       "GridSearchCV(cv=5, error_score='raise-deprecating',\n",
       "             estimator=LinearSVC(C=1.0, class_weight='balanced', dual=True,\n",
       "                                 fit_intercept=True, intercept_scaling=1,\n",
       "                                 loss='squared_hinge', max_iter=1000,\n",
       "                                 multi_class='ovr', penalty='l2',\n",
       "                                 random_state=None, tol=0.0001, verbose=0),\n",
       "             iid='warn', n_jobs=8,\n",
       "             param_grid={'C': [0.01, 0.05, 0.8, 0.1, 0.12, 0.15, 0.2, 0.25]},\n",
       "             pre_dispatch='2*n_jobs', refit=True, return_train_score=False,\n",
       "             scoring='f1_macro', verbose=3)"
      ]
     },
     "execution_count": 474,
     "metadata": {},
     "output_type": "execute_result"
    }
   ],
   "source": [
    "grid.fit(X_train_concat, y_train)"
   ]
  },
  {
   "cell_type": "code",
   "execution_count": 489,
   "metadata": {},
   "outputs": [
    {
     "name": "stdout",
     "output_type": "stream",
     "text": [
      "              precision    recall  f1-score   support\n",
      "\n",
      "           0       0.85      0.92      0.88       418\n",
      "           1       0.74      0.59      0.65       169\n",
      "\n",
      "    accuracy                           0.82       587\n",
      "   macro avg       0.79      0.75      0.77       587\n",
      "weighted avg       0.81      0.82      0.81       587\n",
      "\n"
     ]
    }
   ],
   "source": [
    "y_pred = grid.predict(X_val)\n",
    "print(metrics.classification_report(y_val, y_pred))"
   ]
  },
  {
   "cell_type": "code",
   "execution_count": 476,
   "metadata": {},
   "outputs": [
    {
     "name": "stdout",
     "output_type": "stream",
     "text": [
      "              precision    recall  f1-score   support\n",
      "\n",
      "           0       0.90      0.92      0.91       418\n",
      "           1       0.78      0.73      0.76       169\n",
      "\n",
      "    accuracy                           0.87       587\n",
      "   macro avg       0.84      0.83      0.83       587\n",
      "weighted avg       0.86      0.87      0.86       587\n",
      "\n"
     ]
    }
   ],
   "source": [
    "# wordVectorizers: word(1,3) - char(3,6)\n",
    "# chi2: word(5000), char(4500)\n",
    "\n",
    "y_pred = grid.predict(X_val_concat)\n",
    "print(metrics.classification_report(y_val, y_pred))"
   ]
  },
  {
   "cell_type": "code",
   "execution_count": 475,
   "metadata": {},
   "outputs": [
    {
     "name": "stdout",
     "output_type": "stream",
     "text": [
      "              precision    recall  f1-score   support\n",
      "\n",
      "           0       0.90      0.92      0.91       418\n",
      "           1       0.78      0.73      0.76       169\n",
      "\n",
      "    accuracy                           0.87       587\n",
      "   macro avg       0.84      0.83      0.83       587\n",
      "weighted avg       0.86      0.87      0.86       587\n",
      "\n"
     ]
    }
   ],
   "source": [
    "y_pred = grid.predict(X_val_concat)\n",
    "print(metrics.classification_report(y_val, y_pred))"
   ]
  },
  {
   "cell_type": "code",
   "execution_count": 490,
   "metadata": {},
   "outputs": [
    {
     "name": "stdout",
     "output_type": "stream",
     "text": [
      "MLPClassifier(activation='relu', alpha=0.0001, batch_size='auto', beta_1=0.9,\n",
      "              beta_2=0.999, early_stopping=False, epsilon=1e-08,\n",
      "              hidden_layer_sizes=(100,), learning_rate='constant',\n",
      "              learning_rate_init=0.001, max_iter=200, momentum=0.9,\n",
      "              n_iter_no_change=10, nesterovs_momentum=True, power_t=0.5,\n",
      "              random_state=None, shuffle=True, solver='adam', tol=0.0001,\n",
      "              validation_fraction=0.1, verbose=False, warm_start=False)\n"
     ]
    }
   ],
   "source": [
    "print(grid.best_estimator_)"
   ]
  },
  {
   "cell_type": "code",
   "execution_count": null,
   "metadata": {
    "scrolled": true
   },
   "outputs": [],
   "source": [
    "svr = SVC(C=4, gamma=0.5)\n",
    "svr.fit(X_train, y_train)\n",
    "y_pred = svr.predict(X_val)\n",
    "print(metrics.classification_report(y_val, y_pred))"
   ]
  },
  {
   "cell_type": "code",
   "execution_count": 190,
   "metadata": {},
   "outputs": [
    {
     "data": {
      "text/plain": [
       "LinearSVC(C=0.05, class_weight='balanced', dual=True, fit_intercept=True,\n",
       "          intercept_scaling=1, loss='squared_hinge', max_iter=1000,\n",
       "          multi_class='ovr', penalty='l2', random_state=None, tol=0.0001,\n",
       "          verbose=0)"
      ]
     },
     "execution_count": 190,
     "metadata": {},
     "output_type": "execute_result"
    }
   ],
   "source": [
    "svr = svm.LinearSVC(class_weight='balanced', C=0.05)\n",
    "svr.fit(X_train, y_train)"
   ]
  },
  {
   "cell_type": "markdown",
   "metadata": {},
   "source": [
    "#### Predict test"
   ]
  },
  {
   "cell_type": "code",
   "execution_count": 397,
   "metadata": {},
   "outputs": [],
   "source": [
    "y_pred_test = grid.predict(X_test_concat)"
   ]
  },
  {
   "cell_type": "code",
   "execution_count": null,
   "metadata": {},
   "outputs": [],
   "source": [
    "y_pred_test = grid.predict(X_test)"
   ]
  },
  {
   "cell_type": "code",
   "execution_count": 398,
   "metadata": {},
   "outputs": [],
   "source": [
    "with open('test_pred.txt', 'w') as f:\n",
    "    f.write(\"id,Expected\\n\")\n",
    "    for i in range(len(y_pred_test)):\n",
    "        f.write(\"{0},{1}\\n\".format(i,y_pred_test[i]))"
   ]
  },
  {
   "cell_type": "markdown",
   "metadata": {},
   "source": [
    "#### Model evaluation"
   ]
  },
  {
   "cell_type": "code",
   "execution_count": 236,
   "metadata": {},
   "outputs": [],
   "source": [
    "f_scores_val = []\n",
    "f_scores_train = []\n",
    "reg = np.array(np.arange(3.0, 4.5, 0.1))\n",
    "\n",
    "for c in reg:\n",
    "    svr = SVC(C=c, gamma=0.5)\n",
    "    svr.fit(X_train, y_train)\n",
    "    y_pred = svr.predict(X_val)\n",
    "    f_scores_val.append(f1_score(y_val, y_pred, average='macro'))\n",
    "    y_pred = svr.predict(X_train)\n",
    "    f_scores_train.append(f1_score(y_train, y_pred, average='macro'))"
   ]
  },
  {
   "cell_type": "code",
   "execution_count": 237,
   "metadata": {},
   "outputs": [
    {
     "data": {
      "image/png": "[encoded data removed]",
      "text/plain": [
       "<Figure size 432x288 with 1 Axes>"
      ]
     },
     "metadata": {
      "needs_background": "light"
     },
     "output_type": "display_data"
    }
   ],
   "source": [
    "plt.plot(reg, f_scores_train)\n",
    "plt.plot(reg, f_scores_val)\n",
    "plt.show()"
   ]
  },
  {
   "cell_type": "code",
   "execution_count": null,
   "metadata": {},
   "outputs": [],
   "source": [
    "from sklearn.metrics import SCORERS\n",
    "sorted(SCORERS.keys())"
   ]
  },
  {
   "cell_type": "code",
   "execution_count": 86,
   "metadata": {},
   "outputs": [],
   "source": [
    "reg = np.array(np.arange(0.001, 0.3, 0.01))\n",
    "train_score, val_score = validation_curve(svm.LinearSVC(class_weight='balanced'), X_train, y_train,\n",
    "                                          param_name=\"C\", param_range=reg, cv=5, scoring=\"f1_macro\")"
   ]
  },
  {
   "cell_type": "code",
   "execution_count": 87,
   "metadata": {},
   "outputs": [
    {
     "data": {
      "image/png": "[encoded data removed]",
      "text/plain": [
       "<Figure size 432x288 with 1 Axes>"
      ]
     },
     "metadata": {
      "needs_background": "light"
     },
     "output_type": "display_data"
    }
   ],
   "source": [
    "plt.plot(reg, np.median(train_score, 1), color='blue', label='training score')\n",
    "plt.plot(reg, np.median(val_score, 1), color='red', label='validation score')\n",
    "plt.legend(loc='best')\n",
    "plt.ylim(0, 1)\n",
    "plt.xlabel('degree')\n",
    "plt.ylabel('score');"
   ]
  },
  {
   "cell_type": "markdown",
   "metadata": {},
   "source": [
    "#### Experiments with countVectorizer - ngram word"
   ]
  },
  {
   "cell_type": "markdown",
   "metadata": {},
   "source": [
    "Exp1:\n",
    "\n",
    "* KAGGLE: 0.78802\n",
    "* SVC with C=3.2, gamma=0.06, kernel='rbf'\n",
    "* CountVectorizer with ngram by word(1,3), min_df=8, max_df=1000\n",
    "\n",
    "                precision    recall  f1-score   support\n",
    "\n",
    "           0       0.86      0.94      0.90       418\n",
    "           1       0.82      0.63      0.72       169\n",
    "\n",
    "    accuracy                           0.86       587\n",
    "   macro avg       0.84      0.79      0.81       587\n",
    "weighted avg       0.85      0.86      0.85       587\n",
    "\n",
    "\n",
    "Exp2:\n",
    "\n",
    "* SVC with C=3.6, gamma=0.05, kernel='rbf'\n",
    "* CountVectorizer with ngram by word(1,3), min_df=7, max_df=2000\n",
    "\n",
    "                precision    recall  f1-score   support\n",
    "\n",
    "           0       0.86      0.94      0.90       418\n",
    "           1       0.82      0.62      0.70       169\n",
    "\n",
    "    accuracy                           0.85       587\n",
    "   macro avg       0.84      0.78      0.80       587\n",
    "weighted avg       0.85      0.85      0.84       587\n",
    "\n",
    "\n",
    "Exp3:\n",
    "\n",
    "* SVC with C=3.4, gamma=0.04, kernel='rbf'\n",
    "* CountVectorizer with ngram by word(1,3), min_df=8, max_df=2000\n",
    "\n",
    "                precision    recall  f1-score   support\n",
    "\n",
    "           0       0.87      0.94      0.90       418\n",
    "           1       0.81      0.64      0.72       169\n",
    "\n",
    "    accuracy                           0.85       587\n",
    "   macro avg       0.84      0.79      0.81       587\n",
    "weighted avg       0.85      0.85      0.85       587\n",
    "\n",
    "\n",
    "Exp4:\n",
    "\n",
    "* SVC with C=3.1, gamma=0.04, kernel='rbf'\n",
    "* CountVectorizer with ngram by word(1,3), min_df=10, max_df=2000\n",
    "\n",
    "                precision    recall  f1-score   support\n",
    "\n",
    "           0       0.85      0.94      0.90       418\n",
    "           1       0.81      0.60      0.69       169\n",
    "\n",
    "    accuracy                           0.84       587\n",
    "   macro avg       0.83      0.77      0.79       587\n",
    "weighted avg       0.84      0.84      0.84       587\n",
    "\n",
    "\n",
    "Exp5:\n",
    "\n",
    "* SVC with C=2.9, gamma=0.05, kernel='rbf'\n",
    "* CountVectorizer with ngram by word(1,3), min_df=8, max_df=2500\n",
    "\n",
    "                precision    recall  f1-score   support\n",
    "\n",
    "           0       0.85      0.95      0.90       418\n",
    "           1       0.83      0.59      0.69       169\n",
    "\n",
    "    accuracy                           0.85       587\n",
    "   macro avg       0.84      0.77      0.79       587\n",
    "weighted avg       0.84      0.85      0.84       587\n",
    "\n",
    "\n",
    "Exp6:\n",
    "\n",
    "* SVC with C=3, gamma=0.05, kernel='rbf'\n",
    "* CountVectorizer with ngram by word(1,3), min_df=10, max_df=2500\n",
    "\n",
    "                precision    recall  f1-score   support\n",
    "\n",
    "           0       0.85      0.94      0.89       418\n",
    "           1       0.81      0.58      0.68       169\n",
    "\n",
    "    accuracy                           0.84       587\n",
    "   macro avg       0.83      0.76      0.78       587\n",
    "weighted avg       0.84      0.84      0.83       587"
   ]
  },
  {
   "cell_type": "markdown",
   "metadata": {},
   "source": [
    "#### Experiments with countVectorizer - ngram char"
   ]
  },
  {
   "cell_type": "markdown",
   "metadata": {},
   "source": [
    "Exp1:\n",
    "\n",
    "* SVC with C=3.5, gamma=0.001, kernel='rbf'\n",
    "* CountVectorizer with ngram by char(3,7), min_df=1, max_df=1000\n",
    "\n",
    "                precision    recall  f1-score   support\n",
    "\n",
    "           0       0.80      0.90      0.85       397\n",
    "           1       0.78      0.60      0.68       219\n",
    "\n",
    "    accuracy                           0.80       616\n",
    "   macro avg       0.79      0.75      0.77       616\n",
    "weighted avg       0.79      0.80      0.79       616\n",
    "\n",
    "\n",
    "Exp2:\n",
    "\n",
    "* SVC with C=3.5, gamma=0.001, kernel='rbf'\n",
    "* CountVectorizer with ngram by char(4,7), min_df=10, max_df=1000\n",
    "\n",
    "                precision    recall  f1-score   support\n",
    "\n",
    "           0       0.80      0.91      0.85       397\n",
    "           1       0.78      0.60      0.68       219\n",
    "\n",
    "    accuracy                           0.80       616\n",
    "   macro avg       0.79      0.75      0.77       616\n",
    "weighted avg       0.80      0.80      0.79       616"
   ]
  },
  {
   "cell_type": "markdown",
   "metadata": {},
   "source": [
    "#### Experiments with TfidfVectorizer - ngram word"
   ]
  },
  {
   "cell_type": "markdown",
   "metadata": {},
   "source": [
    "Exp1:\n",
    "\n",
    "* KAGGLE: 0.77525\n",
    "* SVC with C=3.7, gamma=0.5, kernel='rbf'\n",
    "* TfidfVectorizer with ngram by word(1,3), min_df=8, max_df=1000\n",
    "\n",
    "                precision    recall  f1-score   support\n",
    "\n",
    "           0       0.88      0.93      0.90       418\n",
    "           1       0.79      0.69      0.73       169\n",
    "\n",
    "    accuracy                           0.86       587\n",
    "   macro avg       0.83      0.81      0.82       587\n",
    "weighted avg       0.85      0.86      0.85       587\n",
    "\n",
    "Exp2:\n",
    "\n",
    "* SVC with C=4, gamma=0.5, kernel='rbf'\n",
    "* TfidfVectorizer with ngram by word(1,3), min_df=10, max_df=2000\n",
    "\n",
    "                precision    recall  f1-score   support\n",
    "\n",
    "           0       0.84      0.88      0.86       397\n",
    "           1       0.76      0.69      0.72       219\n",
    "\n",
    "    accuracy                           0.81       616\n",
    "   macro avg       0.80      0.78      0.79       616\n",
    "weighted avg       0.81      0.81      0.81       616\n",
    "\n",
    "Exp3:\n",
    "\n",
    "* SVC with C=3, gamma=0.3, kernel='rbf'\n",
    "* TfidfVectorizer with ngram by word(1,3), min_df=10, max_df=2500\n",
    "\n",
    "                precision    recall  f1-score   support\n",
    "\n",
    "           0       0.86      0.94      0.89       418\n",
    "           1       0.80      0.61      0.69       169\n",
    "\n",
    "    accuracy                           0.84       587\n",
    "   macro avg       0.83      0.77      0.79       587\n",
    "weighted avg       0.84      0.84      0.84       587"
   ]
  },
  {
   "cell_type": "markdown",
   "metadata": {},
   "source": [
    "#### Experiments with TfidfVectorizer - ngram char"
   ]
  },
  {
   "cell_type": "markdown",
   "metadata": {},
   "source": [
    "Exp1:\n",
    "\n",
    "* SVC with C=4, gamma=0.3, kernel='rbf'\n",
    "* TfidfVectorizer with ngram by char(4,7), min_df=10, max_df=2000\n",
    "\n",
    "                precision    recall  f1-score   support\n",
    "\n",
    "           0       0.86      0.93      0.90       418\n",
    "           1       0.79      0.64      0.71       169\n",
    "\n",
    "    accuracy                           0.85       587\n",
    "   macro avg       0.83      0.79      0.80       587\n",
    "weighted avg       0.84      0.85      0.84       587"
   ]
  },
  {
   "cell_type": "markdown",
   "metadata": {},
   "source": [
    "### Kaggle"
   ]
  },
  {
   "cell_type": "markdown",
   "metadata": {},
   "source": [
    "Model1:\n",
    "    * Kaggle Score: 0.80729\n",
    "    * LinearSVC (C = 0.05)\n",
    "    * CountVectorizer - word (1, 3)\n",
    "    * (min_df, max_df) = (2, 2000)\n",
    "    * SelectKBest - mutual_info_classif (k = 5000)\n",
    "    \n",
    "                  precision    recall  f1-score   support\n",
    "\n",
    "           0       0.90      0.90      0.90       418\n",
    "           1       0.75      0.75      0.75       169\n",
    "\n",
    "    accuracy                           0.85       587\n",
    "   macro avg       0.82      0.82      0.82       587\n",
    "weighted avg       0.85      0.85      0.85       587\n",
    "\n",
    "\n",
    "Model2:\n",
    "    * Kaggle Score: \n",
    "    * LinearSVC (C = 0.05)\n",
    "    * CountVectorizer - word (1, 3)\n",
    "    * (min_df, max_df) = (2, 2000)\n",
    "    * SelectKBest - mutual_info_classif (k = 5000)\n",
    "    \n"
   ]
  },
  {
   "cell_type": "markdown",
   "metadata": {},
   "source": [
    "## DOR Representation"
   ]
  },
  {
   "cell_type": "code",
   "execution_count": 8,
   "metadata": {},
   "outputs": [],
   "source": [
    "def process_word(w, punct):\n",
    "    is_punct = True if w in punct else False\n",
    "    is_digit = w.isnumeric()\n",
    "    is_stopword = w in stopwords.words('spanish')\n",
    "\n",
    "    return \"\" if is_punct or is_digit or is_stopword else w.lower()"
   ]
  },
  {
   "cell_type": "code",
   "execution_count": 9,
   "metadata": {},
   "outputs": [],
   "source": [
    "def words_to_ngrams(words, n, sep=\" \"):\n",
    "    if n > 1:\n",
    "        return [tuple(words[i:i+n]) for i in range(len(words)-n+1)]\n",
    "    else:\n",
    "        return words"
   ]
  },
  {
   "cell_type": "code",
   "execution_count": 10,
   "metadata": {},
   "outputs": [],
   "source": [
    "def build_ngrams(tweets, punct, n):\n",
    "    tk = TweetTokenizer()\n",
    "    tokens = [process_word(w, punct) for sent in tweets for w in tk.tokenize(sent)]\n",
    "    tokens = list(filter(None, tokens))\n",
    "    tw_grams = words_to_ngrams(tokens, n)\n",
    "    tw_grams = FreqDist(tw_grams)\n",
    "    \n",
    "    return tw_grams"
   ]
  },
  {
   "cell_type": "code",
   "execution_count": 11,
   "metadata": {},
   "outputs": [],
   "source": [
    "def sortFreqDict(freqdict):\n",
    "    aux = [(freqdict[key], key) for key in freqdict]\n",
    "    aux.sort()\n",
    "    aux.reverse()\n",
    "    return aux"
   ]
  },
  {
   "cell_type": "code",
   "execution_count": 12,
   "metadata": {},
   "outputs": [],
   "source": [
    "punct = set(['.', ',', ';', ':', '-', '!', '¡', '¿', '?', '\"', '\\'',\n",
    "             '...', '…', '️', '(', ')', '<url>', '*', '@usuario',\n",
    "            '“', '”', '..', '/'])"
   ]
  },
  {
   "cell_type": "code",
   "execution_count": 13,
   "metadata": {},
   "outputs": [],
   "source": [
    "fdist = build_ngrams(X_train, punct, 1)"
   ]
  },
  {
   "cell_type": "code",
   "execution_count": 14,
   "metadata": {},
   "outputs": [],
   "source": [
    "V = sortFreqDict(fdist)"
   ]
  },
  {
   "cell_type": "code",
   "execution_count": 15,
   "metadata": {},
   "outputs": [],
   "source": [
    "V = V[:5000]"
   ]
  },
  {
   "cell_type": "code",
   "execution_count": 16,
   "metadata": {},
   "outputs": [],
   "source": [
    "dict_indices = dict()\n",
    "cont = 0\n",
    "for weight, word in V:\n",
    "    dict_indices[word] = cont\n",
    "    cont += 1 "
   ]
  },
  {
   "cell_type": "code",
   "execution_count": 17,
   "metadata": {},
   "outputs": [],
   "source": [
    "def build_bow_tr(tr_txt, V, dict_indices):\n",
    "    tk = TweetTokenizer()\n",
    "    BOW = np.zeros((len(tr_txt),len(V)), dtype=int)\n",
    "    cont_doc = 0\n",
    "    for tr in tr_txt:\n",
    "        fdist_doc = nltk.FreqDist(tk.tokenize(tr))\n",
    "        for word in fdist_doc:\n",
    "            if word in dict_indices:\n",
    "                BOW[cont_doc, dict_indices[word]] = fdist_doc[word]\n",
    "        cont_doc += 1       \n",
    "    return BOW"
   ]
  },
  {
   "cell_type": "code",
   "execution_count": 18,
   "metadata": {},
   "outputs": [],
   "source": [
    "def compute_dor(TR):\n",
    "    \n",
    "    DTR = np.zeros((TR.shape[1], TR.shape[0]), dtype=np.float)\n",
    "\n",
    "    tam_V = TR.shape[1]\n",
    "    for doc, i in zip(TR, range(len(TR))):\n",
    "        nonzero_positions = np.nonzero(doc)[0] # returns a tuple of n-dimensions. Since we have 1D array docs, it returns a tuple with one element. thus, we get the 0 index.\n",
    "        tam_v = len(nonzero_positions)\n",
    "        for term in nonzero_positions:\n",
    "            DTR[term, i] = (1 + math.log10(doc[term])) * math.log10(tam_V/tam_v)\n",
    "    return DTR"
   ]
  },
  {
   "cell_type": "code",
   "execution_count": 46,
   "metadata": {},
   "outputs": [],
   "source": [
    "def compute_dor_docs(TR, tr_txt):\n",
    "    \n",
    "    DDR = np.zeros((len(tr_txt), TR.shape[1]), dtype=np.float)\n",
    "    tk = TweetTokenizer()\n",
    "\n",
    "    for tr, i in zip(tr_txt, range(len(tr_txt))):\n",
    "        doc = np.zeros(TR.shape[1])\n",
    "        for word in tk.tokenize(tr):\n",
    "            if word in dict_indices:\n",
    "                doc = np.add(doc, TR[dict_indices[word],:])\n",
    "        DDR[i] = doc\n",
    "    \n",
    "    return DDR"
   ]
  },
  {
   "cell_type": "code",
   "execution_count": null,
   "metadata": {},
   "outputs": [],
   "source": [
    "BOW_tr = build_bow_tr(X_train, V, dict_indices)\n",
    "BOW_val = build_bow_tr(X_val, V, dict_indices)"
   ]
  },
  {
   "cell_type": "code",
   "execution_count": 21,
   "metadata": {},
   "outputs": [
    {
     "name": "stdout",
     "output_type": "stream",
     "text": [
      "(5544, 5000)\n",
      "(616, 5000)\n"
     ]
    }
   ],
   "source": [
    "print(BOW_tr.shape)\n",
    "print(BOW_val.shape)"
   ]
  },
  {
   "cell_type": "code",
   "execution_count": 22,
   "metadata": {},
   "outputs": [],
   "source": [
    "DOR_tr = compute_dor(BOW_tr)\n",
    "DOR_val = compute_dor(BOW_val)\n",
    "#DOR_base = preprocessing.normalize(DOR_tr, norm='l2')"
   ]
  },
  {
   "cell_type": "code",
   "execution_count": 23,
   "metadata": {},
   "outputs": [
    {
     "name": "stdout",
     "output_type": "stream",
     "text": [
      "(5000, 5544)\n",
      "(5000, 616)\n"
     ]
    }
   ],
   "source": [
    "print(DOR_tr.shape)\n",
    "print(DOR_val.shape)"
   ]
  },
  {
   "cell_type": "code",
   "execution_count": null,
   "metadata": {},
   "outputs": [],
   "source": [
    "X_DOR_train = compute_dor_docs(DOR_tr, X_train)\n",
    "X_DOR_val = compute_dor_docs(DOR_tr, X_val)"
   ]
  },
  {
   "cell_type": "code",
   "execution_count": 26,
   "metadata": {},
   "outputs": [
    {
     "name": "stdout",
     "output_type": "stream",
     "text": [
      "(5544, 5544)\n",
      "(616, 5544)\n"
     ]
    }
   ],
   "source": [
    "print(X_DOR_train.shape)\n",
    "print(X_DOR_val.shape)"
   ]
  },
  {
   "cell_type": "code",
   "execution_count": 27,
   "metadata": {},
   "outputs": [],
   "source": [
    "parameters = {'C': [1.5, 2, 2.5, 3, 3.5], 'gamma': [0.005, 0.01, 0.05, 0.1, 0.5]}\n",
    "svr = SVC()\n",
    "grid = GridSearchCV(estimator=svr, param_grid=parameters, n_jobs=8, scoring=\"f1_macro\", cv=5, verbose=3)"
   ]
  },
  {
   "cell_type": "code",
   "execution_count": null,
   "metadata": {},
   "outputs": [],
   "source": [
    "grid.fit(X_DOR_train, y_train)"
   ]
  },
  {
   "cell_type": "code",
   "execution_count": null,
   "metadata": {},
   "outputs": [],
   "source": [
    "svr = SVC(C=2.5, gamma=0.05)\n",
    "svr.fit(X_DOR_train, y_train)\n",
    "y_pred = svr.predict(X_DOR_val)\n",
    "print(metrics.classification_report(y_val, y_pred))"
   ]
  },
  {
   "cell_type": "code",
   "execution_count": 36,
   "metadata": {},
   "outputs": [
    {
     "data": {
      "text/plain": [
       "scipy.sparse.csr.csr_matrix"
      ]
     },
     "execution_count": 36,
     "metadata": {},
     "output_type": "execute_result"
    }
   ],
   "source": [
    "type(X_train)"
   ]
  }
 ],
 "metadata": {
  "kernelspec": {
   "display_name": "Python 3",
   "language": "python",
   "name": "python3"
  },
  "language_info": {
   "codemirror_mode": {
    "name": "ipython",
    "version": 3
   },
   "file_extension": ".py",
   "mimetype": "text/x-python",
   "name": "python",
   "nbconvert_exporter": "python",
   "pygments_lexer": "ipython3",
   "version": "3.7.4"
  }
 },
 "nbformat": 4,
 "nbformat_minor": 2
}

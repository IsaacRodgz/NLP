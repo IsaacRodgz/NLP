{
 "cells": [
  {
   "cell_type": "markdown",
   "metadata": {},
   "source": [
    "# Isaac Rodríguez Bribiesca\n",
    "## Procesamiento de Lenguaje Natural\n",
    "## Tarea 2: Análisis Semántico y Selección de Carácteristicas"
   ]
  },
  {
   "cell_type": "markdown",
   "metadata": {},
   "source": [
    "### Lectura simple de datos"
   ]
  },
  {
   "cell_type": "code",
   "execution_count": 1,
   "metadata": {},
   "outputs": [
    {
     "name": "stderr",
     "output_type": "stream",
     "text": [
      "Using TensorFlow backend.\n"
     ]
    }
   ],
   "source": [
    "import os\n",
    "import re\n",
    "from keras.preprocessing.text import Tokenizer\n",
    "def get_texts_from_file(path_corpus, path_truth):\n",
    "    tr_txt = []\n",
    "    tr_y = []\n",
    "    with open(path_corpus, \"r\") as f_corpus, open(path_truth, \"r\") as f_truth:\n",
    "        for twitt in f_corpus:\n",
    "            tr_txt += [twitt]\n",
    "        for label in f_truth:\n",
    "            tr_y += [label]        \n",
    "    return tr_txt, tr_y\n",
    "\n"
   ]
  },
  {
   "cell_type": "code",
   "execution_count": 2,
   "metadata": {},
   "outputs": [],
   "source": [
    "tr_txt, tr_y = get_texts_from_file(\"./mex_train.txt\", \"./mex_train_labels.txt\")"
   ]
  },
  {
   "cell_type": "markdown",
   "metadata": {},
   "source": [
    "### Estadisticas Simples"
   ]
  },
  {
   "cell_type": "code",
   "execution_count": 3,
   "metadata": {},
   "outputs": [],
   "source": [
    "tr_y = list(map(int, tr_y))"
   ]
  },
  {
   "cell_type": "code",
   "execution_count": 4,
   "metadata": {},
   "outputs": [
    {
     "name": "stdout",
     "output_type": "stream",
     "text": [
      "Counter({0: 3563, 1: 1981})\n"
     ]
    },
    {
     "data": {
      "image/png": "[encoded data removed]",
      "text/plain": [
       "<Figure size 432x288 with 1 Axes>"
      ]
     },
     "metadata": {
      "needs_background": "light"
     },
     "output_type": "display_data"
    }
   ],
   "source": [
    "from collections import Counter\n",
    "import matplotlib.pyplot as plt\n",
    "%matplotlib inline\n",
    "\n",
    "print(Counter(tr_y))\n",
    "plt.hist(tr_y, bins=len(set(tr_y)))\n",
    "plt.ylabel('Users');\n",
    "plt.xlabel('Class');"
   ]
  },
  {
   "cell_type": "markdown",
   "metadata": {},
   "source": [
    "# Un ojo a los datos"
   ]
  },
  {
   "cell_type": "code",
   "execution_count": 5,
   "metadata": {},
   "outputs": [
    {
     "data": {
      "text/plain": [
       "['lo peor de todo es que no me dan por un tiempo y luego vuelven estoy hasta la verga de estl\\n',\n",
       " 'a la vga no seas mamón 45 putos minutos después me dices que apenas sales no me querías avisar en 3 horas? 😑\\n',\n",
       " 'considero que lo más conveniente seria que lo retes a unos vergazos mi jelipe! rómpele la madre a ese pinchi joto!\\n',\n",
       " 'el marica de mi ex me tiene bloqueada de todo así  uno no puede admirar la \"belleza\" de su garnacha 😂\\n',\n",
       " 'mujer despechadaya pinche amlo hazle esta que se pela la loca #reynosafollow #reynosa\\n',\n",
       " 'putos. no tienen madre. ambriados mantenidos. ojetes. como es posible. mejor matarlos\\n',\n",
       " 'ustedes si puden andar de chanceros pero cuidadito y seamos nosotras porque luego luego empiezan a mamar hijos de la chingada.\\n',\n",
       " '@usuario jajjaja te digo esa madre si está buena ajjaja\\n',\n",
       " 'odio los putos trámites de titulación 😡😡😡😡😡😡😡😡😡😡😡 pero me urge la precedula.\\n',\n",
       " '@usuario no te equivocabas mi madre y tu tenían muchísima razón siempre es mejor lo que viene 💚\\n']"
      ]
     },
     "execution_count": 5,
     "metadata": {},
     "output_type": "execute_result"
    }
   ],
   "source": [
    "tr_txt[:10]"
   ]
  },
  {
   "cell_type": "markdown",
   "metadata": {},
   "source": [
    "### Construcción simple del vocabulario"
   ]
  },
  {
   "cell_type": "code",
   "execution_count": 6,
   "metadata": {},
   "outputs": [],
   "source": [
    "import nltk"
   ]
  },
  {
   "cell_type": "code",
   "execution_count": 7,
   "metadata": {},
   "outputs": [],
   "source": [
    "corpus_palabras = []\n",
    "for doc in tr_txt:\n",
    "    corpus_palabras += doc.split()\n",
    "#print(corpus_palabras)\n",
    "fdist = nltk.FreqDist(corpus_palabras)"
   ]
  },
  {
   "cell_type": "code",
   "execution_count": 8,
   "metadata": {},
   "outputs": [
    {
     "data": {
      "text/plain": [
       "FreqDist({'de': 3342, 'que': 3336, 'a': 2605, 'la': 2417, 'y': 2225, 'no': 1743, 'me': 1582, 'el': 1285, '@usuario': 1243, 'en': 1184, ...})"
      ]
     },
     "execution_count": 8,
     "metadata": {},
     "output_type": "execute_result"
    }
   ],
   "source": [
    "fdist"
   ]
  },
  {
   "cell_type": "code",
   "execution_count": 9,
   "metadata": {},
   "outputs": [
    {
     "data": {
      "text/plain": [
       "17055"
      ]
     },
     "execution_count": 9,
     "metadata": {},
     "output_type": "execute_result"
    }
   ],
   "source": [
    "len(fdist)"
   ]
  },
  {
   "cell_type": "code",
   "execution_count": 10,
   "metadata": {},
   "outputs": [],
   "source": [
    "def sortFreqDict(freqdict):\n",
    "    aux = [(freqdict[key], key) for key in freqdict]\n",
    "    aux.sort()\n",
    "    aux.reverse()\n",
    "    return aux"
   ]
  },
  {
   "cell_type": "code",
   "execution_count": 11,
   "metadata": {},
   "outputs": [],
   "source": [
    "V = sortFreqDict(fdist)\n",
    "V = V[:5000]"
   ]
  },
  {
   "cell_type": "code",
   "execution_count": 12,
   "metadata": {},
   "outputs": [],
   "source": [
    "dict_indices = dict()\n",
    "cont = 0\n",
    "for weight, word in V:\n",
    "    dict_indices[word] = cont\n",
    "    cont += 1   "
   ]
  },
  {
   "cell_type": "markdown",
   "metadata": {},
   "source": [
    "### Bolsa de Términos"
   ]
  },
  {
   "cell_type": "code",
   "execution_count": 13,
   "metadata": {},
   "outputs": [],
   "source": [
    "import numpy as np\n",
    "def build_bow_tr(tr_txt, V, dict_indices):\n",
    "    BOW = np.zeros((len(tr_txt),len(V)), dtype=int)\n",
    "    cont_doc = 0\n",
    "    for tr in tr_txt:\n",
    "        fdist_doc = nltk.FreqDist(tr.split())\n",
    "        for word in fdist_doc:\n",
    "            if word in dict_indices:\n",
    "                BOW[cont_doc, dict_indices[word]] = fdist_doc[word]\n",
    "        cont_doc += 1\n",
    "        \n",
    "    return BOW"
   ]
  },
  {
   "cell_type": "markdown",
   "metadata": {},
   "source": [
    "### Debug?"
   ]
  },
  {
   "cell_type": "code",
   "execution_count": 14,
   "metadata": {},
   "outputs": [
    {
     "data": {
      "text/plain": [
       "'\"no me importa lo que digan esos putos periodistas la puta que los pario oh oh oh hay que alentar a la selección\"\\n'"
      ]
     },
     "execution_count": 14,
     "metadata": {},
     "output_type": "execute_result"
    }
   ],
   "source": [
    "tr_txt[10]"
   ]
  },
  {
   "cell_type": "code",
   "execution_count": 15,
   "metadata": {},
   "outputs": [],
   "source": [
    "\n",
    "fdist_doc = nltk.FreqDist(tr_txt[10].split())"
   ]
  },
  {
   "cell_type": "code",
   "execution_count": 16,
   "metadata": {},
   "outputs": [
    {
     "data": {
      "text/plain": [
       "FreqDist({'que': 3, 'oh': 3, 'la': 2, '\"no': 1, 'me': 1, 'importa': 1, 'lo': 1, 'digan': 1, 'esos': 1, 'putos': 1, ...})"
      ]
     },
     "execution_count": 16,
     "metadata": {},
     "output_type": "execute_result"
    }
   ],
   "source": [
    "fdist_doc"
   ]
  },
  {
   "cell_type": "markdown",
   "metadata": {},
   "source": [
    "### Bolsa de Terminos en Validación"
   ]
  },
  {
   "cell_type": "code",
   "execution_count": 17,
   "metadata": {},
   "outputs": [],
   "source": [
    "BOW_tr=build_bow_tr(tr_txt, V, dict_indices)"
   ]
  },
  {
   "cell_type": "code",
   "execution_count": 18,
   "metadata": {},
   "outputs": [
    {
     "name": "stdout",
     "output_type": "stream",
     "text": [
      "[(3342, 'de'), (3336, 'que'), (2605, 'a'), (2417, 'la'), (2225, 'y'), (1743, 'no'), (1582, 'me'), (1285, 'el'), (1243, '@usuario'), (1184, 'en')]\n"
     ]
    }
   ],
   "source": [
    "print(V[:10])"
   ]
  },
  {
   "cell_type": "code",
   "execution_count": 19,
   "metadata": {},
   "outputs": [],
   "source": [
    "import sys\n",
    "import numpy\n",
    "numpy.set_printoptions(threshold=sys.maxsize)\n",
    "#print(BOW[10])"
   ]
  },
  {
   "cell_type": "code",
   "execution_count": 20,
   "metadata": {},
   "outputs": [],
   "source": [
    "val_txt, val_y = get_texts_from_file(\"./mex_val.txt\", \"./mex_val_labels.txt\")"
   ]
  },
  {
   "cell_type": "code",
   "execution_count": 21,
   "metadata": {},
   "outputs": [],
   "source": [
    "val_y = list(map(int, val_y))"
   ]
  },
  {
   "cell_type": "code",
   "execution_count": 22,
   "metadata": {},
   "outputs": [
    {
     "name": "stdout",
     "output_type": "stream",
     "text": [
      "Counter({0: 397, 1: 219})\n"
     ]
    },
    {
     "data": {
      "image/png": "[encoded data removed]",
      "text/plain": [
       "<Figure size 432x288 with 1 Axes>"
      ]
     },
     "metadata": {
      "needs_background": "light"
     },
     "output_type": "display_data"
    }
   ],
   "source": [
    "from collections import Counter\n",
    "import matplotlib.pyplot as plt\n",
    "%matplotlib inline\n",
    "\n",
    "print(Counter(val_y))\n",
    "plt.hist(val_y, bins=len(set(val_y)))\n",
    "plt.ylabel('Users');\n",
    "plt.xlabel('Class');"
   ]
  },
  {
   "cell_type": "code",
   "execution_count": 23,
   "metadata": {},
   "outputs": [
    {
     "data": {
      "text/plain": [
       "['así debería ser siempre para que se mueran a la verga\\n',\n",
       " 'cada día me siento como un perro ovejero tratando de cuidar sus ovejas vale madre pinches rateros póngase a trabajar.😤\\n',\n",
       " 'hijo de tu puta madre nadamas te la pasas mamando pinche wilo de closet\\n',\n",
       " 'soñé horrible espero no se cumpla putos temblores.\\n',\n",
       " '@usuario mejor vas y la chingas tú veo tus publicaciones y solo denotan inconformidad como típico ciudadano quejumbroso que no hace nada por cambiar\\n',\n",
       " 'y quizás este loca y quizás me guste estarlo... #siempreneruda\\n',\n",
       " 'me tienen hasta la verga con sus putos #boomerang pendejos y sin sentido.\\n',\n",
       " 'cuando va a ser el día que encuentre a alguien en quien pueda  confiar posts la re puta madre?\\n',\n",
       " '#ahoritaestoypensando  como putas puede pasar esto?\\n',\n",
       " '#todoibabienpero valio madre ya me atacó el insomnio🙅\\n']"
      ]
     },
     "execution_count": 23,
     "metadata": {},
     "output_type": "execute_result"
    }
   ],
   "source": [
    "val_txt[:10]"
   ]
  },
  {
   "cell_type": "code",
   "execution_count": 24,
   "metadata": {},
   "outputs": [],
   "source": [
    "BOW_val=build_bow_tr(val_txt, V, dict_indices)"
   ]
  },
  {
   "cell_type": "code",
   "execution_count": 25,
   "metadata": {},
   "outputs": [
    {
     "data": {
      "text/plain": [
       "(5544, 5000)"
      ]
     },
     "execution_count": 25,
     "metadata": {},
     "output_type": "execute_result"
    }
   ],
   "source": [
    "BOW_tr.shape"
   ]
  },
  {
   "cell_type": "markdown",
   "metadata": {},
   "source": [
    "# 1) Utilizando la matriz BOW_tr lleve acabo la descomposición de valores sigulares."
   ]
  },
  {
   "cell_type": "code",
   "execution_count": 31,
   "metadata": {},
   "outputs": [],
   "source": [
    "U, D, V = np.linalg.svd(BOW_tr, full_matrices=True)"
   ]
  },
  {
   "cell_type": "markdown",
   "metadata": {},
   "source": [
    "## 1.2) Imprima los tamaños de las matrices obtenidas con SVD"
   ]
  },
  {
   "cell_type": "code",
   "execution_count": 32,
   "metadata": {},
   "outputs": [
    {
     "name": "stdout",
     "output_type": "stream",
     "text": [
      "U dims:  (5544, 5544)\n",
      "D dims:  (5000,)\n",
      "V dims:  (5000, 5000)\n"
     ]
    }
   ],
   "source": [
    "print(\"U dims: \", U.shape)\n",
    "print(\"D dims: \", D.shape)\n",
    "print(\"V dims: \", V.shape)"
   ]
  },
  {
   "cell_type": "markdown",
   "metadata": {},
   "source": [
    "## 1.3) Imprima la matriz sigma en su versión cuadrada unicamente con el top 10 de valores en la diagonal."
   ]
  },
  {
   "cell_type": "code",
   "execution_count": 73,
   "metadata": {},
   "outputs": [],
   "source": [
    "D10 = np.zeros((10,10))\n",
    "row,col = np.diag_indices(10)\n",
    "D10[row,col] = D[:10]"
   ]
  },
  {
   "cell_type": "code",
   "execution_count": 79,
   "metadata": {},
   "outputs": [
    {
     "name": "stdout",
     "output_type": "stream",
     "text": [
      "[[121.46389317   0.           0.           0.           0.\n",
      "    0.           0.           0.           0.           0.        ]\n",
      " [  0.          59.92000745   0.           0.           0.\n",
      "    0.           0.           0.           0.           0.        ]\n",
      " [  0.           0.          56.09662232   0.           0.\n",
      "    0.           0.           0.           0.           0.        ]\n",
      " [  0.           0.           0.          50.25544863   0.\n",
      "    0.           0.           0.           0.           0.        ]\n",
      " [  0.           0.           0.           0.          47.70062991\n",
      "    0.           0.           0.           0.           0.        ]\n",
      " [  0.           0.           0.           0.           0.\n",
      "   46.87218396   0.           0.           0.           0.        ]\n",
      " [  0.           0.           0.           0.           0.\n",
      "    0.          42.00630312   0.           0.           0.        ]\n",
      " [  0.           0.           0.           0.           0.\n",
      "    0.           0.          41.69911538   0.           0.        ]\n",
      " [  0.           0.           0.           0.           0.\n",
      "    0.           0.           0.          38.16428975   0.        ]\n",
      " [  0.           0.           0.           0.           0.\n",
      "    0.           0.           0.           0.          35.10071611]]\n"
     ]
    }
   ],
   "source": [
    "print(D10)"
   ]
  },
  {
   "cell_type": "markdown",
   "metadata": {},
   "source": [
    "## 1.4) Los primeros 10x10 elementos de la matriz original de BOW_tr con los primeros 10x10 valores de su versión reconstruida a través de el top 10 de valores en sigma"
   ]
  },
  {
   "cell_type": "code",
   "execution_count": 75,
   "metadata": {},
   "outputs": [],
   "source": [
    "BOW_tr10 = U[:,:10]@D10@V[:10,:]"
   ]
  },
  {
   "cell_type": "code",
   "execution_count": 80,
   "metadata": {},
   "outputs": [
    {
     "name": "stdout",
     "output_type": "stream",
     "text": [
      "[[ 1.97021140e+00  1.12541808e+00 -9.43645336e-02  1.11795275e+00\n",
      "   1.07693990e+00  9.92386479e-01  9.86544743e-01  1.43236767e-01\n",
      "  -1.94162008e-02 -4.56513189e-02]\n",
      " [-9.37618241e-02  8.61648257e-01  8.69493748e-01  8.98811028e-01\n",
      "  -1.67713223e-01  1.74022386e+00  1.86966367e+00  2.67702265e-02\n",
      "  -3.35757424e-03  6.16159714e-01]\n",
      " [ 2.57575850e-02  2.08103410e+00  2.02490204e+00  9.33178327e-01\n",
      "   6.13528269e-02 -5.40978781e-02  1.67134247e-01 -3.81181693e-02\n",
      "   1.94898142e-01 -1.13872802e-01]\n",
      " [ 2.95887815e+00 -4.30659486e-02  3.20947808e-02  8.12284267e-01\n",
      "  -4.02072580e-02  8.39671714e-01  9.98306716e-01  7.22384592e-01\n",
      "   2.63151750e-02  2.97345162e-01]\n",
      " [ 1.04347724e-02  1.02591440e+00  9.97311237e-03  9.96768052e-01\n",
      "   1.93428853e-02  5.53177879e-02  4.15207404e-03  1.20424652e-03\n",
      "  -8.05442816e-03  2.00430569e-01]\n",
      " [ 8.00419554e-03  6.84199237e-02 -3.85944752e-02  4.69449446e-02\n",
      "   3.14373343e-02  1.06979555e+00 -3.25980268e-02  1.66657917e-01\n",
      "   7.47249088e-02 -5.98306273e-02]\n",
      " [ 1.95746484e+00 -9.21949856e-02  9.46740108e-01  9.64764207e-01\n",
      "   9.03458832e-01  1.50778653e-01  1.88644916e-02 -3.11892752e-02\n",
      "  -6.31401604e-02 -8.10782200e-02]\n",
      " [ 3.07261632e-02  3.09627489e-02  1.08073293e-01  1.46665285e-01\n",
      "   1.09071663e-01  1.84844846e-01  1.42496559e-02  1.12732186e-01\n",
      "   1.12443381e+00 -1.10908761e-01]\n",
      " [ 1.02533474e+00  2.70449307e-02  2.76875601e-02  8.87106898e-01\n",
      "  -1.03427605e-02  1.11177775e-01  8.76304959e-01 -3.34728002e-01\n",
      "   4.23219009e-02  5.26984419e-01]\n",
      " [ 4.89314092e-02  1.09732671e+00  1.08972736e-01  9.45691799e-02\n",
      "   1.11042683e+00  1.03461073e+00  9.94153866e-02  1.76495562e-01\n",
      "   1.25886538e+00 -3.54500176e-01]]\n"
     ]
    }
   ],
   "source": [
    "print(BOW_tr10[:10,:10])"
   ]
  },
  {
   "cell_type": "markdown",
   "metadata": {},
   "source": [
    "## 1.5) Proyecte todos los documentos en BOW_val al espacio latente obtenido con LSI"
   ]
  },
  {
   "cell_type": "code",
   "execution_count": 84,
   "metadata": {},
   "outputs": [
    {
     "data": {
      "text/plain": [
       "(616, 5000)"
      ]
     },
     "execution_count": 84,
     "metadata": {},
     "output_type": "execute_result"
    }
   ],
   "source": [
    "BOW_val10 = BOW_val.dot(V.T[:,:10])\n",
    "BOW_val.shape"
   ]
  },
  {
   "cell_type": "markdown",
   "metadata": {},
   "source": [
    "## 1.6) Evalué 1.5 en clasificación supervisada"
   ]
  },
  {
   "cell_type": "code",
   "execution_count": 85,
   "metadata": {},
   "outputs": [
    {
     "name": "stdout",
     "output_type": "stream",
     "text": [
      "[[267 130]\n",
      " [ 98 121]]\n",
      "              precision    recall  f1-score   support\n",
      "\n",
      "           0       0.73      0.67      0.70       397\n",
      "           1       0.48      0.55      0.51       219\n",
      "\n",
      "    accuracy                           0.63       616\n",
      "   macro avg       0.61      0.61      0.61       616\n",
      "weighted avg       0.64      0.63      0.63       616\n",
      "\n"
     ]
    },
    {
     "name": "stderr",
     "output_type": "stream",
     "text": [
      "/home/isaac/anaconda3/lib/python3.7/site-packages/sklearn/svm/_base.py:947: ConvergenceWarning: Liblinear failed to converge, increase the number of iterations.\n",
      "  \"the number of iterations.\", ConvergenceWarning)\n"
     ]
    }
   ],
   "source": [
    "from sklearn.preprocessing import LabelEncoder\n",
    "from sklearn.metrics import accuracy_score, confusion_matrix, f1_score, precision_recall_fscore_support, roc_auc_score\n",
    "from sklearn import metrics, preprocessing\n",
    "import numpy as np\n",
    "\n",
    "from sklearn import svm, datasets\n",
    "from sklearn.linear_model import LogisticRegression\n",
    "from sklearn.model_selection import GridSearchCV\n",
    "    \n",
    "parameters = {'C': [.05, .12, .25, .5, 1, 2, 4]}\n",
    "\n",
    "svr = svm.LinearSVC(class_weight='balanced')\n",
    "grid = GridSearchCV(estimator=svr, param_grid=parameters, n_jobs=8, scoring=\"f1_macro\", cv=5)\n",
    "\n",
    "grid.fit(BOW_tr10, tr_y) \n",
    "\n",
    "y_pred = grid.predict(BOW_val)\n",
    "\n",
    "p, r, f, _ = precision_recall_fscore_support(val_y, y_pred, average='macro', pos_label=None)\n",
    "\n",
    "print(confusion_matrix(val_y, y_pred))\n",
    "print(metrics.classification_report(val_y, y_pred))"
   ]
  },
  {
   "cell_type": "markdown",
   "metadata": {},
   "source": [
    "## 1.7) Vuelva a construir LSI pero ahora sobre una matriz tf-idf normalizada con l2, posteriormente evalué y compare en clasificación supervisada."
   ]
  },
  {
   "cell_type": "code",
   "execution_count": null,
   "metadata": {},
   "outputs": [],
   "source": [
    "# Tú código"
   ]
  },
  {
   "cell_type": "markdown",
   "metadata": {},
   "source": [
    "# 2)  Calcule Información mutua para los términos de la matriz BOW_tr e imprima el top 50 de cada clase (Visualice TAMBIEN CON https://amueller.github.io/word_cloud/)"
   ]
  },
  {
   "cell_type": "code",
   "execution_count": null,
   "metadata": {},
   "outputs": [],
   "source": [
    "# Tú código"
   ]
  },
  {
   "cell_type": "markdown",
   "metadata": {},
   "source": [
    "# 3)  Calcule ganancia de información para los términos de la matriz BOW_tr e imprima el top 50 de la colección y su ganancia. (Visualice TAMBIEN CON https://amueller.github.io/word_cloud/)"
   ]
  },
  {
   "cell_type": "code",
   "execution_count": 39,
   "metadata": {},
   "outputs": [],
   "source": [
    "# Tú código"
   ]
  },
  {
   "cell_type": "markdown",
   "metadata": {},
   "source": [
    "# 4)  Calcule ganancia de información con Chi2 para los términos de la matriz BOW_tr e imprima el top 50 de la colección y su ganancia. (Visualice TAMBIEN CON https://amueller.github.io/word_cloud/)"
   ]
  },
  {
   "cell_type": "code",
   "execution_count": null,
   "metadata": {},
   "outputs": [],
   "source": [
    "# Tú código"
   ]
  }
 ],
 "metadata": {
  "kernelspec": {
   "display_name": "Python 3",
   "language": "python",
   "name": "python3"
  },
  "language_info": {
   "codemirror_mode": {
    "name": "ipython",
    "version": 3
   },
   "file_extension": ".py",
   "mimetype": "text/x-python",
   "name": "python",
   "nbconvert_exporter": "python",
   "pygments_lexer": "ipython3",
   "version": "3.7.3"
  }
 },
 "nbformat": 4,
 "nbformat_minor": 4
}
